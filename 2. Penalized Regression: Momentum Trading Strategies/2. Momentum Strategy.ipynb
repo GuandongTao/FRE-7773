{
 "cells": [
  {
   "cell_type": "markdown",
   "id": "aec7a862",
   "metadata": {},
   "source": [
    "Code up a momentum strategy for SPY (using the data provided) as discussed in the attached \"Case Study Momentum Strategy\" document.\n",
    "\n",
    "For predictor variables, choose lagged 1W, 2W, 1M and 2M returns of S&P and 3 other Indices (Any ticker in the directory beginning with the letter \"X\" is an index; so XLK is the technology sector index), yielding a total of 16 variables. To calibrate the model, we used a rolling window of 100 trading days (~); re-calibration is performed once every month. The model will be used to predict the next day's return for S&P. If the next day predicted return is positive, you go long the asset, otherwise you short it.\n",
    "\n",
    "Evaluate the following learning algorithms:\n",
    "\n",
    "Ordinary Least Squares, Lasso, Ridge, ElasticNet, and kNN"
   ]
  },
  {
   "cell_type": "code",
   "execution_count": 61,
   "id": "a144387b",
   "metadata": {},
   "outputs": [
    {
     "name": "stdout",
     "output_type": "stream",
     "text": [
      "The autoreload extension is already loaded. To reload it, use:\n",
      "  %reload_ext autoreload\n"
     ]
    }
   ],
   "source": [
    "# standard magic\n",
    "from IPython.core.interactiveshell import InteractiveShell\n",
    "InteractiveShell.ast_node_interactivity = \"all\"\n",
    "\n",
    "# Reload all modules imported with %aimport\n",
    "%load_ext autoreload\n",
    "%autoreload 1\n",
    "\n",
    "%matplotlib inline\n"
   ]
  },
  {
   "cell_type": "code",
   "execution_count": 62,
   "id": "195697d4",
   "metadata": {},
   "outputs": [],
   "source": [
    "import numpy as np\n",
    "import pandas as pd\n",
    "\n",
    "import matplotlib.pyplot as plt\n",
    "import seaborn as sns; sns.set()\n",
    "import os\n"
   ]
  },
  {
   "cell_type": "markdown",
   "id": "6b0380d8",
   "metadata": {},
   "source": [
    "# 1. Load and choose data\n",
    "1. Load all indices, choose three \n",
    "2. While loading, compute lagged returns\n",
    "3. Only use data with non-nan rows (discard first 60 rows)"
   ]
  },
  {
   "cell_type": "code",
   "execution_count": 63,
   "id": "6dd50688",
   "metadata": {},
   "outputs": [],
   "source": [
    "# func for automating loading, returns calculatino, and train/test spliting process\n",
    "def loadLagReturns(ticker, root='C:/Users/Allen Tao/Desktop/FRE 7773/Assignments/A1/A1 Data/', lag=[5, 10, 20, 40]):\n",
    "    '''\n",
    "    Automate data loading process: loading, compute returns with laggs\n",
    "    Input: ticker(str), root(default to data storage folder), lag (default to (1w=5d, 2w=10d, 1mo=20d, 2mo=40d))\n",
    "    output: one df of lagged returns for each ticker\n",
    "    '''\n",
    "    # load spy\n",
    "    df = pd.read_csv(root + f'{ticker}.csv', index_col='Dt', parse_dates=True)\n",
    "    \n",
    "    def lagRet(dataf, l):\n",
    "        '''\n",
    "        compute returns with laggs\n",
    "        input: dataf(df), l(array of laggs as number of days)\n",
    "        output: one df of lagged returns for each dataf\n",
    "        '''\n",
    "        for n in l:\n",
    "            dataf[f'R{n}'] = df['Close'] / df.shift(n)['Close'] - 1\n",
    "        return dataf\n",
    "        \n",
    "    # compute lagged returns\n",
    "    df = lagRet(df, lag)\n",
    "    \n",
    "    # drop data containing nan\n",
    "    df.dropna(axis=0, inplace=True)\n",
    "    \n",
    "    return df\n"
   ]
  },
  {
   "cell_type": "markdown",
   "id": "8c090f76",
   "metadata": {},
   "source": [
    "choose index:\n",
    "XLB (materials), XLE (energy), XLF (finance)"
   ]
  },
  {
   "cell_type": "code",
   "execution_count": 64,
   "id": "3302668b",
   "metadata": {},
   "outputs": [],
   "source": [
    "# get array of xl indices\n",
    "root = 'C:/Users/Allen Tao/Desktop/FRE 7773/Assignments/A1/A1 Data/'\n",
    "f_list = [s.replace('.csv', '') for s in os.listdir(root)]\n",
    "\n",
    "for name in f_list:\n",
    "    if name[:2] == 'XL' or name == 'SPY':\n",
    "        locals()[f'{name}'] = loadLagReturns(name)\n",
    "\n",
    "XL_list = [XLB, XLE, XLF, XLI, XLK, XLP, XLRE, XLU, XLV, XLY]\n"
   ]
  },
  {
   "cell_type": "markdown",
   "id": "6663c668",
   "metadata": {},
   "source": [
    "form features and targets\n",
    "Note: y is shifted back one day, so that the data is next days return. "
   ]
  },
  {
   "cell_type": "code",
   "execution_count": 65,
   "id": "0540aa65",
   "metadata": {},
   "outputs": [
    {
     "data": {
      "text/html": [
       "<div>\n",
       "<style scoped>\n",
       "    .dataframe tbody tr th:only-of-type {\n",
       "        vertical-align: middle;\n",
       "    }\n",
       "\n",
       "    .dataframe tbody tr th {\n",
       "        vertical-align: top;\n",
       "    }\n",
       "\n",
       "    .dataframe thead th {\n",
       "        text-align: right;\n",
       "    }\n",
       "</style>\n",
       "<table border=\"1\" class=\"dataframe\">\n",
       "  <thead>\n",
       "    <tr style=\"text-align: right;\">\n",
       "      <th></th>\n",
       "      <th>Close</th>\n",
       "    </tr>\n",
       "    <tr>\n",
       "      <th>Dt</th>\n",
       "      <th></th>\n",
       "    </tr>\n",
       "  </thead>\n",
       "  <tbody>\n",
       "    <tr>\n",
       "      <th>2018-02-26</th>\n",
       "      <td>-0.012487</td>\n",
       "    </tr>\n",
       "    <tr>\n",
       "      <th>2018-02-27</th>\n",
       "      <td>-0.010130</td>\n",
       "    </tr>\n",
       "    <tr>\n",
       "      <th>2018-02-28</th>\n",
       "      <td>-0.014541</td>\n",
       "    </tr>\n",
       "    <tr>\n",
       "      <th>2018-03-01</th>\n",
       "      <td>0.005155</td>\n",
       "    </tr>\n",
       "    <tr>\n",
       "      <th>2018-03-02</th>\n",
       "      <td>0.011558</td>\n",
       "    </tr>\n",
       "    <tr>\n",
       "      <th>...</th>\n",
       "      <td>...</td>\n",
       "    </tr>\n",
       "    <tr>\n",
       "      <th>2018-12-21</th>\n",
       "      <td>-0.026423</td>\n",
       "    </tr>\n",
       "    <tr>\n",
       "      <th>2018-12-24</th>\n",
       "      <td>0.050525</td>\n",
       "    </tr>\n",
       "    <tr>\n",
       "      <th>2018-12-26</th>\n",
       "      <td>0.007677</td>\n",
       "    </tr>\n",
       "    <tr>\n",
       "      <th>2018-12-27</th>\n",
       "      <td>-0.001290</td>\n",
       "    </tr>\n",
       "    <tr>\n",
       "      <th>2018-12-28</th>\n",
       "      <td>0.008759</td>\n",
       "    </tr>\n",
       "  </tbody>\n",
       "</table>\n",
       "<p>213 rows × 1 columns</p>\n",
       "</div>"
      ],
      "text/plain": [
       "               Close\n",
       "Dt                  \n",
       "2018-02-26 -0.012487\n",
       "2018-02-27 -0.010130\n",
       "2018-02-28 -0.014541\n",
       "2018-03-01  0.005155\n",
       "2018-03-02  0.011558\n",
       "...              ...\n",
       "2018-12-21 -0.026423\n",
       "2018-12-24  0.050525\n",
       "2018-12-26  0.007677\n",
       "2018-12-27 -0.001290\n",
       "2018-12-28  0.008759\n",
       "\n",
       "[213 rows x 1 columns]"
      ]
     },
     "execution_count": 65,
     "metadata": {},
     "output_type": "execute_result"
    }
   ],
   "source": [
    "# prep x and y, match column.\n",
    "col = ['R5', 'R10', 'R20', 'R40']\n",
    "x = pd.concat([SPY[col], XLB[col], XLE[col], XLF[col]], axis=1).iloc[:-1, :]\n",
    "x.set_axis(['SPY5', 'SPY10', 'SPY20', 'SPY40', 'XLB5', 'XLB10', 'XLB20', 'XLB40', 'XLE5', 'XLE10', 'XLE20', 'XLE40', \n",
    "            'XLF5', 'XLF10', 'XLF20', 'XLF40', ], axis=1, inplace=True)\n",
    "\n",
    "# note: y is next day's return -> find today's return, shift, drop 2 days\n",
    "y = pd.DataFrame(SPY['Close'] / SPY.shift(1)['Close'] - 1).shift(-1).iloc[:-1, :]\n",
    "y"
   ]
  },
  {
   "cell_type": "markdown",
   "id": "13b480a0",
   "metadata": {},
   "source": [
    "check scales of the variables"
   ]
  },
  {
   "cell_type": "code",
   "execution_count": 66,
   "id": "2e4b2c5f",
   "metadata": {},
   "outputs": [
    {
     "data": {
      "text/html": [
       "<div>\n",
       "<style scoped>\n",
       "    .dataframe tbody tr th:only-of-type {\n",
       "        vertical-align: middle;\n",
       "    }\n",
       "\n",
       "    .dataframe tbody tr th {\n",
       "        vertical-align: top;\n",
       "    }\n",
       "\n",
       "    .dataframe thead th {\n",
       "        text-align: right;\n",
       "    }\n",
       "</style>\n",
       "<table border=\"1\" class=\"dataframe\">\n",
       "  <thead>\n",
       "    <tr style=\"text-align: right;\">\n",
       "      <th></th>\n",
       "      <th>SPY5</th>\n",
       "      <th>SPY10</th>\n",
       "      <th>SPY20</th>\n",
       "      <th>SPY40</th>\n",
       "      <th>XLB5</th>\n",
       "      <th>XLB10</th>\n",
       "      <th>XLB20</th>\n",
       "      <th>XLB40</th>\n",
       "      <th>XLE5</th>\n",
       "      <th>XLE10</th>\n",
       "      <th>XLE20</th>\n",
       "      <th>XLE40</th>\n",
       "      <th>XLF5</th>\n",
       "      <th>XLF10</th>\n",
       "      <th>XLF20</th>\n",
       "      <th>XLF40</th>\n",
       "    </tr>\n",
       "  </thead>\n",
       "  <tbody>\n",
       "    <tr>\n",
       "      <th>count</th>\n",
       "      <td>213.000000</td>\n",
       "      <td>213.000000</td>\n",
       "      <td>213.000000</td>\n",
       "      <td>213.000000</td>\n",
       "      <td>213.000000</td>\n",
       "      <td>213.000000</td>\n",
       "      <td>213.000000</td>\n",
       "      <td>213.000000</td>\n",
       "      <td>213.000000</td>\n",
       "      <td>213.000000</td>\n",
       "      <td>213.000000</td>\n",
       "      <td>213.000000</td>\n",
       "      <td>213.000000</td>\n",
       "      <td>213.000000</td>\n",
       "      <td>213.000000</td>\n",
       "      <td>213.000000</td>\n",
       "    </tr>\n",
       "    <tr>\n",
       "      <th>mean</th>\n",
       "      <td>-0.002358</td>\n",
       "      <td>-0.003351</td>\n",
       "      <td>-0.004145</td>\n",
       "      <td>-0.005004</td>\n",
       "      <td>-0.004486</td>\n",
       "      <td>-0.008133</td>\n",
       "      <td>-0.014210</td>\n",
       "      <td>-0.027149</td>\n",
       "      <td>-0.003845</td>\n",
       "      <td>-0.006333</td>\n",
       "      <td>-0.010846</td>\n",
       "      <td>-0.020161</td>\n",
       "      <td>-0.004899</td>\n",
       "      <td>-0.008680</td>\n",
       "      <td>-0.014246</td>\n",
       "      <td>-0.021565</td>\n",
       "    </tr>\n",
       "    <tr>\n",
       "      <th>std</th>\n",
       "      <td>0.022014</td>\n",
       "      <td>0.029421</td>\n",
       "      <td>0.035359</td>\n",
       "      <td>0.045217</td>\n",
       "      <td>0.026918</td>\n",
       "      <td>0.036487</td>\n",
       "      <td>0.044556</td>\n",
       "      <td>0.046128</td>\n",
       "      <td>0.030492</td>\n",
       "      <td>0.042769</td>\n",
       "      <td>0.058669</td>\n",
       "      <td>0.086973</td>\n",
       "      <td>0.026182</td>\n",
       "      <td>0.034885</td>\n",
       "      <td>0.043529</td>\n",
       "      <td>0.044928</td>\n",
       "    </tr>\n",
       "    <tr>\n",
       "      <th>min</th>\n",
       "      <td>-0.082315</td>\n",
       "      <td>-0.112584</td>\n",
       "      <td>-0.109820</td>\n",
       "      <td>-0.132331</td>\n",
       "      <td>-0.076804</td>\n",
       "      <td>-0.090490</td>\n",
       "      <td>-0.141132</td>\n",
       "      <td>-0.154078</td>\n",
       "      <td>-0.116798</td>\n",
       "      <td>-0.146345</td>\n",
       "      <td>-0.157565</td>\n",
       "      <td>-0.196178</td>\n",
       "      <td>-0.096536</td>\n",
       "      <td>-0.119013</td>\n",
       "      <td>-0.141923</td>\n",
       "      <td>-0.129536</td>\n",
       "    </tr>\n",
       "    <tr>\n",
       "      <th>25%</th>\n",
       "      <td>-0.013034</td>\n",
       "      <td>-0.014981</td>\n",
       "      <td>-0.029743</td>\n",
       "      <td>-0.041649</td>\n",
       "      <td>-0.021107</td>\n",
       "      <td>-0.031323</td>\n",
       "      <td>-0.037554</td>\n",
       "      <td>-0.057381</td>\n",
       "      <td>-0.020821</td>\n",
       "      <td>-0.027439</td>\n",
       "      <td>-0.038462</td>\n",
       "      <td>-0.099399</td>\n",
       "      <td>-0.021413</td>\n",
       "      <td>-0.028986</td>\n",
       "      <td>-0.038420</td>\n",
       "      <td>-0.053805</td>\n",
       "    </tr>\n",
       "    <tr>\n",
       "      <th>50%</th>\n",
       "      <td>0.001087</td>\n",
       "      <td>0.003115</td>\n",
       "      <td>0.006675</td>\n",
       "      <td>0.008692</td>\n",
       "      <td>-0.002940</td>\n",
       "      <td>-0.004470</td>\n",
       "      <td>-0.004396</td>\n",
       "      <td>-0.022184</td>\n",
       "      <td>0.001897</td>\n",
       "      <td>-0.002172</td>\n",
       "      <td>-0.009091</td>\n",
       "      <td>-0.015171</td>\n",
       "      <td>-0.002833</td>\n",
       "      <td>-0.004261</td>\n",
       "      <td>-0.005169</td>\n",
       "      <td>-0.020516</td>\n",
       "    </tr>\n",
       "    <tr>\n",
       "      <th>75%</th>\n",
       "      <td>0.011929</td>\n",
       "      <td>0.015143</td>\n",
       "      <td>0.021694</td>\n",
       "      <td>0.030505</td>\n",
       "      <td>0.014048</td>\n",
       "      <td>0.014608</td>\n",
       "      <td>0.019267</td>\n",
       "      <td>0.008023</td>\n",
       "      <td>0.016001</td>\n",
       "      <td>0.021519</td>\n",
       "      <td>0.022186</td>\n",
       "      <td>0.024040</td>\n",
       "      <td>0.013499</td>\n",
       "      <td>0.014472</td>\n",
       "      <td>0.016696</td>\n",
       "      <td>0.013562</td>\n",
       "    </tr>\n",
       "    <tr>\n",
       "      <th>max</th>\n",
       "      <td>0.047104</td>\n",
       "      <td>0.062715</td>\n",
       "      <td>0.082444</td>\n",
       "      <td>0.075969</td>\n",
       "      <td>0.066614</td>\n",
       "      <td>0.108691</td>\n",
       "      <td>0.067921</td>\n",
       "      <td>0.074259</td>\n",
       "      <td>0.066056</td>\n",
       "      <td>0.092038</td>\n",
       "      <td>0.130112</td>\n",
       "      <td>0.181818</td>\n",
       "      <td>0.051805</td>\n",
       "      <td>0.081220</td>\n",
       "      <td>0.093520</td>\n",
       "      <td>0.079305</td>\n",
       "    </tr>\n",
       "  </tbody>\n",
       "</table>\n",
       "</div>"
      ],
      "text/plain": [
       "             SPY5       SPY10       SPY20       SPY40        XLB5       XLB10  \\\n",
       "count  213.000000  213.000000  213.000000  213.000000  213.000000  213.000000   \n",
       "mean    -0.002358   -0.003351   -0.004145   -0.005004   -0.004486   -0.008133   \n",
       "std      0.022014    0.029421    0.035359    0.045217    0.026918    0.036487   \n",
       "min     -0.082315   -0.112584   -0.109820   -0.132331   -0.076804   -0.090490   \n",
       "25%     -0.013034   -0.014981   -0.029743   -0.041649   -0.021107   -0.031323   \n",
       "50%      0.001087    0.003115    0.006675    0.008692   -0.002940   -0.004470   \n",
       "75%      0.011929    0.015143    0.021694    0.030505    0.014048    0.014608   \n",
       "max      0.047104    0.062715    0.082444    0.075969    0.066614    0.108691   \n",
       "\n",
       "            XLB20       XLB40        XLE5       XLE10       XLE20       XLE40  \\\n",
       "count  213.000000  213.000000  213.000000  213.000000  213.000000  213.000000   \n",
       "mean    -0.014210   -0.027149   -0.003845   -0.006333   -0.010846   -0.020161   \n",
       "std      0.044556    0.046128    0.030492    0.042769    0.058669    0.086973   \n",
       "min     -0.141132   -0.154078   -0.116798   -0.146345   -0.157565   -0.196178   \n",
       "25%     -0.037554   -0.057381   -0.020821   -0.027439   -0.038462   -0.099399   \n",
       "50%     -0.004396   -0.022184    0.001897   -0.002172   -0.009091   -0.015171   \n",
       "75%      0.019267    0.008023    0.016001    0.021519    0.022186    0.024040   \n",
       "max      0.067921    0.074259    0.066056    0.092038    0.130112    0.181818   \n",
       "\n",
       "             XLF5       XLF10       XLF20       XLF40  \n",
       "count  213.000000  213.000000  213.000000  213.000000  \n",
       "mean    -0.004899   -0.008680   -0.014246   -0.021565  \n",
       "std      0.026182    0.034885    0.043529    0.044928  \n",
       "min     -0.096536   -0.119013   -0.141923   -0.129536  \n",
       "25%     -0.021413   -0.028986   -0.038420   -0.053805  \n",
       "50%     -0.002833   -0.004261   -0.005169   -0.020516  \n",
       "75%      0.013499    0.014472    0.016696    0.013562  \n",
       "max      0.051805    0.081220    0.093520    0.079305  "
      ]
     },
     "execution_count": 66,
     "metadata": {},
     "output_type": "execute_result"
    }
   ],
   "source": [
    "x.describe()\n"
   ]
  },
  {
   "cell_type": "code",
   "execution_count": 67,
   "id": "3684cb93",
   "metadata": {},
   "outputs": [
    {
     "data": {
      "text/html": [
       "<div>\n",
       "<style scoped>\n",
       "    .dataframe tbody tr th:only-of-type {\n",
       "        vertical-align: middle;\n",
       "    }\n",
       "\n",
       "    .dataframe tbody tr th {\n",
       "        vertical-align: top;\n",
       "    }\n",
       "\n",
       "    .dataframe thead th {\n",
       "        text-align: right;\n",
       "    }\n",
       "</style>\n",
       "<table border=\"1\" class=\"dataframe\">\n",
       "  <thead>\n",
       "    <tr style=\"text-align: right;\">\n",
       "      <th></th>\n",
       "      <th>Close</th>\n",
       "    </tr>\n",
       "  </thead>\n",
       "  <tbody>\n",
       "    <tr>\n",
       "      <th>count</th>\n",
       "      <td>213.000000</td>\n",
       "    </tr>\n",
       "    <tr>\n",
       "      <th>mean</th>\n",
       "      <td>-0.000444</td>\n",
       "    </tr>\n",
       "    <tr>\n",
       "      <th>std</th>\n",
       "      <td>0.010428</td>\n",
       "    </tr>\n",
       "    <tr>\n",
       "      <th>min</th>\n",
       "      <td>-0.032402</td>\n",
       "    </tr>\n",
       "    <tr>\n",
       "      <th>25%</th>\n",
       "      <td>-0.005224</td>\n",
       "    </tr>\n",
       "    <tr>\n",
       "      <th>50%</th>\n",
       "      <td>0.000034</td>\n",
       "    </tr>\n",
       "    <tr>\n",
       "      <th>75%</th>\n",
       "      <td>0.005032</td>\n",
       "    </tr>\n",
       "    <tr>\n",
       "      <th>max</th>\n",
       "      <td>0.050525</td>\n",
       "    </tr>\n",
       "  </tbody>\n",
       "</table>\n",
       "</div>"
      ],
      "text/plain": [
       "            Close\n",
       "count  213.000000\n",
       "mean    -0.000444\n",
       "std      0.010428\n",
       "min     -0.032402\n",
       "25%     -0.005224\n",
       "50%      0.000034\n",
       "75%      0.005032\n",
       "max      0.050525"
      ]
     },
     "execution_count": 67,
     "metadata": {},
     "output_type": "execute_result"
    }
   ],
   "source": [
    "y.describe()\n"
   ]
  },
  {
   "cell_type": "markdown",
   "id": "064a0283",
   "metadata": {},
   "source": [
    "x, y are on matching scales. Carry on implementing the model"
   ]
  },
  {
   "cell_type": "markdown",
   "id": "64961d02",
   "metadata": {},
   "source": [
    "# 2. Split data\n",
    "**recalibration split**\n",
    "(has to do this manually cuz sklearn.model_selection.TimeSeriesSplit doesnot support per month calibration)\n",
    "1. window size = 100 train + 20 test\n",
    "2. groups seperated by 20 days\n",
    "3. total number of groups = floor((213-120)/20) + 1 = 5\n",
    "4. ^ this means we kinda have to discard the last 13 samples - that's fine.\n",
    "\n",
    "**train-test split**\n",
    "1. last twenty rows for each recalibration are test. first 100 train."
   ]
  },
  {
   "cell_type": "code",
   "execution_count": 68,
   "id": "33336fb2",
   "metadata": {},
   "outputs": [],
   "source": [
    "#recalibration split\n",
    "x1 = x.iloc[:120, :]\n",
    "x2 = x.iloc[20:140, :]\n",
    "x3 = x.iloc[40:160, :]\n",
    "x4 = x.iloc[60:180, :]\n",
    "x5 = x.iloc[80:200, :]\n",
    "\n",
    "y1 = y.iloc[:120, :]\n",
    "y2 = y.iloc[20:140, :]\n",
    "y3 = y.iloc[40:160, :]\n",
    "y4 = y.iloc[60:180, :]\n",
    "y5 = y.iloc[80:200, :]\n"
   ]
  },
  {
   "cell_type": "code",
   "execution_count": 69,
   "id": "8c1516fc",
   "metadata": {},
   "outputs": [],
   "source": [
    "# train test split function for each recalibration split\n",
    "def trainTest(dataf):\n",
    "    '''\n",
    "    splits 100:20 train:test\n",
    "    input: 1 data frame for each recalibraiton\n",
    "    output: 2df as train, test\n",
    "    '''\n",
    "    train = dataf.iloc[:100, :]\n",
    "    test = dataf.iloc[100:, :]\n",
    "    return train, test\n",
    "\n",
    "x1r, x1e = trainTest(x1)\n",
    "x2r, x2e = trainTest(x2)\n",
    "x3r, x3e = trainTest(x3)\n",
    "x4r, x4e = trainTest(x4)\n",
    "x5r, x5e = trainTest(x5)\n",
    "\n",
    "y1r, y1e = trainTest(y1)\n",
    "y2r, y2e = trainTest(y2)\n",
    "y3r, y3e = trainTest(y3)\n",
    "y4r, y4e = trainTest(y4)\n",
    "y5r, y5e = trainTest(y5)\n",
    "\n",
    "data = [[x1r, y1r, x1e, y1e], [x2r, y2r, x2e, y2e], [x3r, y3r, x3e, y3e], [x4r, y4r, x4e, y4e], [x5r, y5r, x5e, y5e]]\n"
   ]
  },
  {
   "cell_type": "markdown",
   "id": "8562e414",
   "metadata": {},
   "source": [
    "Ignored holiday and simplified date counting in this code for simplicity. Formal mometum and partitioning should include such consideration."
   ]
  },
  {
   "cell_type": "markdown",
   "id": "ac1cc8ac",
   "metadata": {},
   "source": [
    "# 3. test models\n",
    "1. for each model type, build 5 models using each recalibration pair\n",
    "2. model types include: Ordinary Least Squares, Lasso (alpha = 0.001 or 0.05), Ridge, ElasticNet and kNN\n",
    "3. use only the best out of 5 models from each model type to predict buy/sell for the entire dataset\n"
   ]
  },
  {
   "cell_type": "markdown",
   "id": "3c18a8fd",
   "metadata": {},
   "source": [
    "**OLS**"
   ]
  },
  {
   "cell_type": "code",
   "execution_count": 70,
   "id": "f88eac69",
   "metadata": {},
   "outputs": [],
   "source": [
    "# function that finds the best ols model\n",
    "from sklearn import datasets, linear_model\n",
    "from sklearn.metrics import mean_squared_error\n",
    "import math\n",
    "\n",
    "def bestOLS(arr):\n",
    "    '''\n",
    "    a function that runs OLS on all five train-test recalibration pairs and returns the model with the least MSE\n",
    "    input: array of arrays containing xtrain, ytrain, xtest, ytest\n",
    "    output: the best OLS model (min MSE)\n",
    "    '''\n",
    "    count = -1\n",
    "    best = 0\n",
    "    mse = math.inf\n",
    "    for l in arr:\n",
    "        count += 1\n",
    "        ols = linear_model.LinearRegression()\n",
    "        ols.fit(l[0], l[1])\n",
    "        yp = ols.predict(l[2])\n",
    "        m = mean_squared_error(l[3], yp)\n",
    "#         print(m)\n",
    "        if m < mse:\n",
    "            mse = m\n",
    "            best = count\n",
    "    ols.fit(arr[count][0], arr[count][1])\n",
    "    return ols\n"
   ]
  },
  {
   "cell_type": "code",
   "execution_count": 71,
   "id": "c8bce602",
   "metadata": {},
   "outputs": [],
   "source": [
    "# find the best ols model\n",
    "ols = bestOLS(data)\n"
   ]
  },
  {
   "cell_type": "markdown",
   "id": "d2b65a60",
   "metadata": {},
   "source": [
    "**Lasso, alpha = 0.001 or 0.05**\n",
    "\n",
    "Note: α (alpha) is the parameter which balances the amount of emphasis given to minimizing RSS vs minimizing sum of square of coefficients. α can take various values: α = 0: The objective becomes same as simple linear regression \n",
    "\n",
    "source: \n",
    "https://www.analyticsvidhya.com/blog/2016/01/ridge-lasso-regression-python-complete-tutorial/"
   ]
  },
  {
   "cell_type": "code",
   "execution_count": 72,
   "id": "b263e0f7",
   "metadata": {},
   "outputs": [],
   "source": [
    "# function that finds the best Lasso alpha=0.001 model\n",
    "from sklearn import linear_model\n",
    "\n",
    "def bestLasso(arr, alp):\n",
    "    '''\n",
    "    a function that runs Lasso on all five train-test recalibration pairs and returns the model with the least MSE\n",
    "    input: array of arrays containing xtrain, ytrain, xtest, ytest; float alpha\n",
    "    output: the best Lasso with given alpha (min mse)\n",
    "    '''\n",
    "    count = -1\n",
    "    best = 0\n",
    "    mse = math.inf\n",
    "    for l in arr:\n",
    "        count += 1\n",
    "        lasso = linear_model.Lasso(alpha=alp)\n",
    "        lasso.fit(l[0], l[1])\n",
    "        yp = lasso.predict(l[2])\n",
    "        m = mean_squared_error(l[3], yp)\n",
    "        if m < mse:\n",
    "            mse = m\n",
    "            best = count\n",
    "    lasso.fit(arr[count][0], arr[count][1])\n",
    "    return lasso\n"
   ]
  },
  {
   "cell_type": "code",
   "execution_count": 73,
   "id": "5d9021eb",
   "metadata": {},
   "outputs": [],
   "source": [
    "# find the best lasso models\n",
    "lasso001 = bestLasso(data, 0.001)\n",
    "lasso05 = bestLasso(data, 0.05)\n"
   ]
  },
  {
   "cell_type": "markdown",
   "id": "72fb670d",
   "metadata": {},
   "source": [
    "**Lasso, gridsearch for alpha**\n",
    "\n",
    "test alpha = 0.0005, 0.001, 0.005, 0.01, 0.05, 0.1, 0.5, 1"
   ]
  },
  {
   "cell_type": "code",
   "execution_count": 74,
   "id": "850bbdec",
   "metadata": {},
   "outputs": [
    {
     "data": {
      "text/plain": [
       "{'alpha': 0.001}"
      ]
     },
     "execution_count": 74,
     "metadata": {},
     "output_type": "execute_result"
    },
    {
     "data": {
      "text/plain": [
       "{'alpha': 0.001}"
      ]
     },
     "execution_count": 74,
     "metadata": {},
     "output_type": "execute_result"
    },
    {
     "data": {
      "text/plain": [
       "{'alpha': 0.001}"
      ]
     },
     "execution_count": 74,
     "metadata": {},
     "output_type": "execute_result"
    },
    {
     "data": {
      "text/plain": [
       "{'alpha': 0.001}"
      ]
     },
     "execution_count": 74,
     "metadata": {},
     "output_type": "execute_result"
    },
    {
     "data": {
      "text/plain": [
       "{'alpha': 0.001}"
      ]
     },
     "execution_count": 74,
     "metadata": {},
     "output_type": "execute_result"
    }
   ],
   "source": [
    "from sklearn.model_selection import GridSearchCV\n",
    "\n",
    "param_grid = {'alpha':[0.001, 0.005, 0.01, 0.05, 0.1, 0.5, 1, 10, 50, 100]}\n",
    "\n",
    "for l in data:\n",
    "    grid = GridSearchCV(linear_model.Lasso(), param_grid, cv=5)\n",
    "    _ = grid.fit(l[0], l[1])\n",
    "    grid.best_params_\n",
    "    "
   ]
  },
  {
   "cell_type": "markdown",
   "id": "48fe28f1",
   "metadata": {},
   "source": [
    "it's obvious that models with smaller alpha (closer to ols) gives better results. "
   ]
  },
  {
   "cell_type": "markdown",
   "id": "82073249",
   "metadata": {},
   "source": [
    "**Ridge, gridsearch for alpha**\n",
    "\n",
    "test alpha = 0.001, 0.005, 0.01, 0.05, 0.1, 0.5, 1, 10, 50, 100"
   ]
  },
  {
   "cell_type": "code",
   "execution_count": 75,
   "id": "a7a0fdcf",
   "metadata": {},
   "outputs": [
    {
     "data": {
      "text/plain": [
       "{'alpha': 0.1}"
      ]
     },
     "execution_count": 75,
     "metadata": {},
     "output_type": "execute_result"
    },
    {
     "data": {
      "text/plain": [
       "{'alpha': 10}"
      ]
     },
     "execution_count": 75,
     "metadata": {},
     "output_type": "execute_result"
    },
    {
     "data": {
      "text/plain": [
       "{'alpha': 1}"
      ]
     },
     "execution_count": 75,
     "metadata": {},
     "output_type": "execute_result"
    },
    {
     "data": {
      "text/plain": [
       "{'alpha': 100}"
      ]
     },
     "execution_count": 75,
     "metadata": {},
     "output_type": "execute_result"
    },
    {
     "data": {
      "text/plain": [
       "{'alpha': 100}"
      ]
     },
     "execution_count": 75,
     "metadata": {},
     "output_type": "execute_result"
    }
   ],
   "source": [
    "from sklearn.linear_model import Ridge\n",
    "\n",
    "for l in data:\n",
    "    grid = GridSearchCV(Ridge(), param_grid, cv=5)\n",
    "    _ = grid.fit(l[0], l[1])\n",
    "    grid.best_params_\n",
    "    "
   ]
  },
  {
   "cell_type": "markdown",
   "id": "bd0d371e",
   "metadata": {},
   "source": [
    "larger alpha is often preferred\n",
    "\n",
    "use alpha = 100"
   ]
  },
  {
   "cell_type": "code",
   "execution_count": 76,
   "id": "cd115882",
   "metadata": {},
   "outputs": [],
   "source": [
    "def bestRidge(arr, alp):\n",
    "    '''\n",
    "    a function that runs Ridge on all five train-test recalibration pairs and returns the model with the least MSE\n",
    "    input: array of arrays containing xtrain, ytrain, xtest, ytest; float alpha\n",
    "    output: the best ridge with given alpha (min mse)\n",
    "    '''\n",
    "    count = -1\n",
    "    best = 0\n",
    "    mse = math.inf\n",
    "    for l in arr:\n",
    "        count += 1\n",
    "        ridge = linear_model.Ridge(alpha=alp)\n",
    "        ridge.fit(l[0], l[1])\n",
    "        yp = ridge.predict(l[2])\n",
    "        m = mean_squared_error(l[3], yp)\n",
    "        if m < mse:\n",
    "            mse = m\n",
    "            best = count\n",
    "    ridge.fit(arr[count][0], arr[count][1])\n",
    "    return ridge\n"
   ]
  },
  {
   "cell_type": "code",
   "execution_count": 77,
   "id": "f5d59f99",
   "metadata": {},
   "outputs": [],
   "source": [
    "# find the best ridge model\n",
    "ridge = bestRidge(data, 100)\n"
   ]
  },
  {
   "cell_type": "markdown",
   "id": "3de1d670",
   "metadata": {},
   "source": [
    "**ElasticNet, gridsearch for alpha**\n",
    "\n",
    "test alpha = 0.0005, 0.001, 0.005, 0.01, 0.05, 0.1, 0.5, 1"
   ]
  },
  {
   "cell_type": "code",
   "execution_count": 78,
   "id": "98874e89",
   "metadata": {},
   "outputs": [
    {
     "data": {
      "text/plain": [
       "{'alpha': 0.001}"
      ]
     },
     "execution_count": 78,
     "metadata": {},
     "output_type": "execute_result"
    },
    {
     "data": {
      "text/plain": [
       "{'alpha': 0.001}"
      ]
     },
     "execution_count": 78,
     "metadata": {},
     "output_type": "execute_result"
    },
    {
     "data": {
      "text/plain": [
       "{'alpha': 0.001}"
      ]
     },
     "execution_count": 78,
     "metadata": {},
     "output_type": "execute_result"
    },
    {
     "data": {
      "text/plain": [
       "{'alpha': 0.001}"
      ]
     },
     "execution_count": 78,
     "metadata": {},
     "output_type": "execute_result"
    },
    {
     "data": {
      "text/plain": [
       "{'alpha': 0.001}"
      ]
     },
     "execution_count": 78,
     "metadata": {},
     "output_type": "execute_result"
    }
   ],
   "source": [
    "from sklearn.linear_model import ElasticNet\n",
    "\n",
    "for l in data:\n",
    "    grid = GridSearchCV(ElasticNet(), param_grid, cv=5)\n",
    "    _ = grid.fit(l[0], l[1])\n",
    "    grid.best_params_\n",
    "    "
   ]
  },
  {
   "cell_type": "markdown",
   "id": "368d8302",
   "metadata": {},
   "source": [
    "it's obvious that models with smaller alpha (closer to ols) gives better results. For fun, I changed this to an alpha of 0.05 to get variation in the final results"
   ]
  },
  {
   "cell_type": "code",
   "execution_count": 79,
   "id": "970710cd",
   "metadata": {},
   "outputs": [],
   "source": [
    "def bestEN(arr, alp):\n",
    "    '''\n",
    "    a function that runs ElasticNet on all five train-test recalibration pairs and returns the model with the least MSE\n",
    "    input: array of arrays containing xtrain, ytrain, xtest, ytest; float alpha\n",
    "    output: the best ElasticNet with given alpha (min mse)\n",
    "    '''\n",
    "    count = -1\n",
    "    best = 0\n",
    "    mse = math.inf\n",
    "    for l in arr:\n",
    "        count += 1\n",
    "        en = ElasticNet(alpha=alp)\n",
    "        en.fit(l[0], l[1])\n",
    "        yp = en.predict(l[2])\n",
    "        m = mean_squared_error(l[3], yp)\n",
    "        if m < mse:\n",
    "            mse = m\n",
    "            best = count\n",
    "    en.fit(arr[count][0], arr[count][1])\n",
    "    return en\n"
   ]
  },
  {
   "cell_type": "code",
   "execution_count": 80,
   "id": "671af928",
   "metadata": {},
   "outputs": [],
   "source": [
    "# find the best ElasticNet model\n",
    "en = bestEN(data, 0.05)\n"
   ]
  },
  {
   "cell_type": "markdown",
   "id": "a0e9cc1a",
   "metadata": {},
   "source": [
    "**kNN, gridsearch for n_neighbors, leaf_size, p**\n",
    "1. make y discrete to make kNN work\n",
    "2. grid search\n",
    "3. find best model"
   ]
  },
  {
   "cell_type": "markdown",
   "id": "57c8876e",
   "metadata": {},
   "source": [
    "transform y"
   ]
  },
  {
   "cell_type": "code",
   "execution_count": 81,
   "id": "399195ea",
   "metadata": {},
   "outputs": [],
   "source": [
    "z = y.copy(deep=True)\n",
    "add = []\n",
    "\n",
    "for n in z.index:\n",
    "    if z['Close'][n] > 0:\n",
    "        add.append(1)\n",
    "    else:\n",
    "        add.append(0)\n",
    "z.insert(1, 'P/L', add, True)\n",
    "\n",
    "yb1 = z.iloc[:120, 1:]\n",
    "yb2 = z.iloc[20:140, 1:]\n",
    "yb3 = z.iloc[40:160, 1:]\n",
    "yb4 = z.iloc[60:180, 1:]\n",
    "yb5 = z.iloc[80:200, 1:]\n",
    "\n",
    "yb1r, yb1e = trainTest(yb1)\n",
    "yb2r, yb2e = trainTest(yb2)\n",
    "yb3r, yb3e = trainTest(yb3)\n",
    "yb4r, yb4e = trainTest(yb4)\n",
    "yb5r, yb5e = trainTest(yb5)\n",
    "\n",
    "data2 = [[x1r, yb1r, x1e, yb1e], [x2r, yb2r, x2e, yb2e], [x3r, yb3r, x3e, yb3e], [x4r, yb4r, x4e, yb4e], [x5r, yb5r, x5e, yb5e]]"
   ]
  },
  {
   "cell_type": "code",
   "execution_count": 82,
   "id": "f3d79ac1",
   "metadata": {},
   "outputs": [
    {
     "data": {
      "text/plain": [
       "{'leaf_size': 5, 'n_neighbors': 8, 'p': 2}"
      ]
     },
     "execution_count": 82,
     "metadata": {},
     "output_type": "execute_result"
    },
    {
     "data": {
      "text/plain": [
       "{'leaf_size': 5, 'n_neighbors': 9, 'p': 1}"
      ]
     },
     "execution_count": 82,
     "metadata": {},
     "output_type": "execute_result"
    },
    {
     "data": {
      "text/plain": [
       "{'leaf_size': 5, 'n_neighbors': 7, 'p': 2}"
      ]
     },
     "execution_count": 82,
     "metadata": {},
     "output_type": "execute_result"
    },
    {
     "data": {
      "text/plain": [
       "{'leaf_size': 5, 'n_neighbors': 5, 'p': 1}"
      ]
     },
     "execution_count": 82,
     "metadata": {},
     "output_type": "execute_result"
    },
    {
     "data": {
      "text/plain": [
       "{'leaf_size': 5, 'n_neighbors': 5, 'p': 1}"
      ]
     },
     "execution_count": 82,
     "metadata": {},
     "output_type": "execute_result"
    }
   ],
   "source": [
    "from sklearn.neighbors import KNeighborsClassifier\n",
    "\n",
    "# fk warnings\n",
    "import warnings\n",
    "warnings.filterwarnings('ignore')\n",
    "\n",
    "param_grid2 = {'n_neighbors':[2, 3, 4, 5, 6, 7, 8, 9, 10], 'leaf_size':[5, 10, 15, 30], 'p': [1, 2]}\n",
    "\n",
    "for l in data2:\n",
    "    grid = GridSearchCV(KNeighborsClassifier(), param_grid2, cv=5)\n",
    "    _ = grid.fit(l[0], np.array(l[1]))\n",
    "    grid.best_params_"
   ]
  },
  {
   "cell_type": "markdown",
   "id": "36cfe654",
   "metadata": {},
   "source": [
    "small leaf size preferred, neighbour = 5 is hopefully ideal? p = 1 might be better."
   ]
  },
  {
   "cell_type": "code",
   "execution_count": 83,
   "id": "cec67b71",
   "metadata": {},
   "outputs": [],
   "source": [
    "def bestKNN(arr, nn, ls, p):\n",
    "    '''\n",
    "    a function that runs kNN on all five train-test recalibration pairs and returns the model with the least MSE\n",
    "    input: array of arrays containing xtrain, ytrain, xtest, ytest; float \n",
    "    output: the best kNN with given parameters (min difference)\n",
    "    '''\n",
    "    count = -1\n",
    "    best = 0\n",
    "    mse = math.inf\n",
    "    for l in arr:\n",
    "        count += 1\n",
    "        knn = KNeighborsClassifier(n_neighbors=nn, leaf_size=ls, p=p)\n",
    "        knn.fit(l[0], l[1])\n",
    "        yp = knn.predict(l[2])\n",
    "        m = mean_squared_error(l[3], yp)\n",
    "        if m < mse:\n",
    "            mse = m\n",
    "            best = count\n",
    "    knn.fit(arr[count][0], arr[count][1])\n",
    "    return knn\n"
   ]
  },
  {
   "cell_type": "code",
   "execution_count": 84,
   "id": "7424897f",
   "metadata": {},
   "outputs": [],
   "source": [
    "# find the best kNN model\n",
    "knn = bestKNN(data2, 5, 5, 1)"
   ]
  },
  {
   "cell_type": "markdown",
   "id": "0cf01395",
   "metadata": {},
   "source": [
    "# Predict next day's S&P return\n",
    "1. predict for all data available using the best chosen models\n",
    "2. generate long/short decision\n",
    "3. calculate culmulative asset based on L/S decision\n",
    "4. calculate culmulative asset based on actual S&P return\n",
    "5. plot results"
   ]
  },
  {
   "cell_type": "markdown",
   "id": "dbe0187f",
   "metadata": {},
   "source": [
    "put all prediction from best models into pred"
   ]
  },
  {
   "cell_type": "code",
   "execution_count": 85,
   "id": "4db247c6",
   "metadata": {},
   "outputs": [
    {
     "data": {
      "text/html": [
       "<div>\n",
       "<style scoped>\n",
       "    .dataframe tbody tr th:only-of-type {\n",
       "        vertical-align: middle;\n",
       "    }\n",
       "\n",
       "    .dataframe tbody tr th {\n",
       "        vertical-align: top;\n",
       "    }\n",
       "\n",
       "    .dataframe thead th {\n",
       "        text-align: right;\n",
       "    }\n",
       "</style>\n",
       "<table border=\"1\" class=\"dataframe\">\n",
       "  <thead>\n",
       "    <tr style=\"text-align: right;\">\n",
       "      <th></th>\n",
       "      <th>LinearRegression()</th>\n",
       "      <th>Lasso(alpha=0.001)</th>\n",
       "      <th>Lasso(alpha=0.05)</th>\n",
       "      <th>Ridge(alpha=100)</th>\n",
       "      <th>ElasticNet(alpha=0.05)</th>\n",
       "      <th>KNeighborsClassifier(leaf_size=5, p=1)</th>\n",
       "    </tr>\n",
       "    <tr>\n",
       "      <th>Dt</th>\n",
       "      <th></th>\n",
       "      <th></th>\n",
       "      <th></th>\n",
       "      <th></th>\n",
       "      <th></th>\n",
       "      <th></th>\n",
       "    </tr>\n",
       "  </thead>\n",
       "  <tbody>\n",
       "    <tr>\n",
       "      <th>2018-02-26</th>\n",
       "      <td>0.013851</td>\n",
       "      <td>0.000099</td>\n",
       "      <td>0.000099</td>\n",
       "      <td>0.000110</td>\n",
       "      <td>0.000099</td>\n",
       "      <td>1</td>\n",
       "    </tr>\n",
       "    <tr>\n",
       "      <th>2018-02-27</th>\n",
       "      <td>0.013062</td>\n",
       "      <td>0.000099</td>\n",
       "      <td>0.000099</td>\n",
       "      <td>0.000109</td>\n",
       "      <td>0.000099</td>\n",
       "      <td>1</td>\n",
       "    </tr>\n",
       "    <tr>\n",
       "      <th>2018-02-28</th>\n",
       "      <td>0.011091</td>\n",
       "      <td>0.000099</td>\n",
       "      <td>0.000099</td>\n",
       "      <td>0.000109</td>\n",
       "      <td>0.000099</td>\n",
       "      <td>1</td>\n",
       "    </tr>\n",
       "    <tr>\n",
       "      <th>2018-03-01</th>\n",
       "      <td>0.007863</td>\n",
       "      <td>0.000099</td>\n",
       "      <td>0.000099</td>\n",
       "      <td>0.000110</td>\n",
       "      <td>0.000099</td>\n",
       "      <td>1</td>\n",
       "    </tr>\n",
       "    <tr>\n",
       "      <th>2018-03-02</th>\n",
       "      <td>0.005506</td>\n",
       "      <td>0.000099</td>\n",
       "      <td>0.000099</td>\n",
       "      <td>0.000109</td>\n",
       "      <td>0.000099</td>\n",
       "      <td>1</td>\n",
       "    </tr>\n",
       "    <tr>\n",
       "      <th>...</th>\n",
       "      <td>...</td>\n",
       "      <td>...</td>\n",
       "      <td>...</td>\n",
       "      <td>...</td>\n",
       "      <td>...</td>\n",
       "      <td>...</td>\n",
       "    </tr>\n",
       "    <tr>\n",
       "      <th>2018-12-21</th>\n",
       "      <td>0.014735</td>\n",
       "      <td>0.000099</td>\n",
       "      <td>0.000099</td>\n",
       "      <td>0.000119</td>\n",
       "      <td>0.000099</td>\n",
       "      <td>0</td>\n",
       "    </tr>\n",
       "    <tr>\n",
       "      <th>2018-12-24</th>\n",
       "      <td>0.018008</td>\n",
       "      <td>0.000099</td>\n",
       "      <td>0.000099</td>\n",
       "      <td>0.000122</td>\n",
       "      <td>0.000099</td>\n",
       "      <td>0</td>\n",
       "    </tr>\n",
       "    <tr>\n",
       "      <th>2018-12-26</th>\n",
       "      <td>0.014835</td>\n",
       "      <td>0.000099</td>\n",
       "      <td>0.000099</td>\n",
       "      <td>0.000117</td>\n",
       "      <td>0.000099</td>\n",
       "      <td>0</td>\n",
       "    </tr>\n",
       "    <tr>\n",
       "      <th>2018-12-27</th>\n",
       "      <td>0.021497</td>\n",
       "      <td>0.000099</td>\n",
       "      <td>0.000099</td>\n",
       "      <td>0.000116</td>\n",
       "      <td>0.000099</td>\n",
       "      <td>0</td>\n",
       "    </tr>\n",
       "    <tr>\n",
       "      <th>2018-12-28</th>\n",
       "      <td>0.025859</td>\n",
       "      <td>0.000099</td>\n",
       "      <td>0.000099</td>\n",
       "      <td>0.000120</td>\n",
       "      <td>0.000099</td>\n",
       "      <td>1</td>\n",
       "    </tr>\n",
       "  </tbody>\n",
       "</table>\n",
       "<p>213 rows × 6 columns</p>\n",
       "</div>"
      ],
      "text/plain": [
       "            LinearRegression()  Lasso(alpha=0.001)  Lasso(alpha=0.05)  \\\n",
       "Dt                                                                      \n",
       "2018-02-26            0.013851            0.000099           0.000099   \n",
       "2018-02-27            0.013062            0.000099           0.000099   \n",
       "2018-02-28            0.011091            0.000099           0.000099   \n",
       "2018-03-01            0.007863            0.000099           0.000099   \n",
       "2018-03-02            0.005506            0.000099           0.000099   \n",
       "...                        ...                 ...                ...   \n",
       "2018-12-21            0.014735            0.000099           0.000099   \n",
       "2018-12-24            0.018008            0.000099           0.000099   \n",
       "2018-12-26            0.014835            0.000099           0.000099   \n",
       "2018-12-27            0.021497            0.000099           0.000099   \n",
       "2018-12-28            0.025859            0.000099           0.000099   \n",
       "\n",
       "            Ridge(alpha=100)  ElasticNet(alpha=0.05)  \\\n",
       "Dt                                                     \n",
       "2018-02-26          0.000110                0.000099   \n",
       "2018-02-27          0.000109                0.000099   \n",
       "2018-02-28          0.000109                0.000099   \n",
       "2018-03-01          0.000110                0.000099   \n",
       "2018-03-02          0.000109                0.000099   \n",
       "...                      ...                     ...   \n",
       "2018-12-21          0.000119                0.000099   \n",
       "2018-12-24          0.000122                0.000099   \n",
       "2018-12-26          0.000117                0.000099   \n",
       "2018-12-27          0.000116                0.000099   \n",
       "2018-12-28          0.000120                0.000099   \n",
       "\n",
       "            KNeighborsClassifier(leaf_size=5, p=1)  \n",
       "Dt                                                  \n",
       "2018-02-26                                       1  \n",
       "2018-02-27                                       1  \n",
       "2018-02-28                                       1  \n",
       "2018-03-01                                       1  \n",
       "2018-03-02                                       1  \n",
       "...                                            ...  \n",
       "2018-12-21                                       0  \n",
       "2018-12-24                                       0  \n",
       "2018-12-26                                       0  \n",
       "2018-12-27                                       0  \n",
       "2018-12-28                                       1  \n",
       "\n",
       "[213 rows x 6 columns]"
      ]
     },
     "execution_count": 85,
     "metadata": {},
     "output_type": "execute_result"
    }
   ],
   "source": [
    "# compile all predictions\n",
    "models = [ols, lasso001, lasso05, ridge, en, knn]\n",
    "p = {}\n",
    "for m in models:\n",
    "    p[m] = m.predict(x).reshape(-1, 1).ravel()\n",
    "\n",
    "pred = pd.DataFrame(p, index=x.index)\n",
    "pred\n"
   ]
  },
  {
   "cell_type": "code",
   "execution_count": 86,
   "id": "3a6f561c",
   "metadata": {},
   "outputs": [
    {
     "data": {
      "text/html": [
       "<div>\n",
       "<style scoped>\n",
       "    .dataframe tbody tr th:only-of-type {\n",
       "        vertical-align: middle;\n",
       "    }\n",
       "\n",
       "    .dataframe tbody tr th {\n",
       "        vertical-align: top;\n",
       "    }\n",
       "\n",
       "    .dataframe thead th {\n",
       "        text-align: right;\n",
       "    }\n",
       "</style>\n",
       "<table border=\"1\" class=\"dataframe\">\n",
       "  <thead>\n",
       "    <tr style=\"text-align: right;\">\n",
       "      <th></th>\n",
       "      <th>LinearRegression()</th>\n",
       "      <th>Lasso(alpha=0.001)</th>\n",
       "      <th>Lasso(alpha=0.05)</th>\n",
       "      <th>Ridge(alpha=100)</th>\n",
       "      <th>ElasticNet(alpha=0.05)</th>\n",
       "      <th>KNeighborsClassifier(leaf_size=5, p=1)</th>\n",
       "    </tr>\n",
       "  </thead>\n",
       "  <tbody>\n",
       "    <tr>\n",
       "      <th>count</th>\n",
       "      <td>213.000000</td>\n",
       "      <td>2.130000e+02</td>\n",
       "      <td>2.130000e+02</td>\n",
       "      <td>213.000000</td>\n",
       "      <td>2.130000e+02</td>\n",
       "      <td>213.000000</td>\n",
       "    </tr>\n",
       "    <tr>\n",
       "      <th>mean</th>\n",
       "      <td>-0.000855</td>\n",
       "      <td>9.944140e-05</td>\n",
       "      <td>9.944140e-05</td>\n",
       "      <td>0.000100</td>\n",
       "      <td>9.944140e-05</td>\n",
       "      <td>0.530516</td>\n",
       "    </tr>\n",
       "    <tr>\n",
       "      <th>std</th>\n",
       "      <td>0.007364</td>\n",
       "      <td>3.803647e-19</td>\n",
       "      <td>3.803647e-19</td>\n",
       "      <td>0.000008</td>\n",
       "      <td>3.803647e-19</td>\n",
       "      <td>0.500244</td>\n",
       "    </tr>\n",
       "    <tr>\n",
       "      <th>min</th>\n",
       "      <td>-0.017578</td>\n",
       "      <td>9.944140e-05</td>\n",
       "      <td>9.944140e-05</td>\n",
       "      <td>0.000082</td>\n",
       "      <td>9.944140e-05</td>\n",
       "      <td>0.000000</td>\n",
       "    </tr>\n",
       "    <tr>\n",
       "      <th>25%</th>\n",
       "      <td>-0.005324</td>\n",
       "      <td>9.944140e-05</td>\n",
       "      <td>9.944140e-05</td>\n",
       "      <td>0.000095</td>\n",
       "      <td>9.944140e-05</td>\n",
       "      <td>0.000000</td>\n",
       "    </tr>\n",
       "    <tr>\n",
       "      <th>50%</th>\n",
       "      <td>-0.000274</td>\n",
       "      <td>9.944140e-05</td>\n",
       "      <td>9.944140e-05</td>\n",
       "      <td>0.000099</td>\n",
       "      <td>9.944140e-05</td>\n",
       "      <td>1.000000</td>\n",
       "    </tr>\n",
       "    <tr>\n",
       "      <th>75%</th>\n",
       "      <td>0.003394</td>\n",
       "      <td>9.944140e-05</td>\n",
       "      <td>9.944140e-05</td>\n",
       "      <td>0.000104</td>\n",
       "      <td>9.944140e-05</td>\n",
       "      <td>1.000000</td>\n",
       "    </tr>\n",
       "    <tr>\n",
       "      <th>max</th>\n",
       "      <td>0.025859</td>\n",
       "      <td>9.944140e-05</td>\n",
       "      <td>9.944140e-05</td>\n",
       "      <td>0.000122</td>\n",
       "      <td>9.944140e-05</td>\n",
       "      <td>1.000000</td>\n",
       "    </tr>\n",
       "  </tbody>\n",
       "</table>\n",
       "</div>"
      ],
      "text/plain": [
       "       LinearRegression()  Lasso(alpha=0.001)  Lasso(alpha=0.05)  \\\n",
       "count          213.000000        2.130000e+02       2.130000e+02   \n",
       "mean            -0.000855        9.944140e-05       9.944140e-05   \n",
       "std              0.007364        3.803647e-19       3.803647e-19   \n",
       "min             -0.017578        9.944140e-05       9.944140e-05   \n",
       "25%             -0.005324        9.944140e-05       9.944140e-05   \n",
       "50%             -0.000274        9.944140e-05       9.944140e-05   \n",
       "75%              0.003394        9.944140e-05       9.944140e-05   \n",
       "max              0.025859        9.944140e-05       9.944140e-05   \n",
       "\n",
       "       Ridge(alpha=100)  ElasticNet(alpha=0.05)  \\\n",
       "count        213.000000            2.130000e+02   \n",
       "mean           0.000100            9.944140e-05   \n",
       "std            0.000008            3.803647e-19   \n",
       "min            0.000082            9.944140e-05   \n",
       "25%            0.000095            9.944140e-05   \n",
       "50%            0.000099            9.944140e-05   \n",
       "75%            0.000104            9.944140e-05   \n",
       "max            0.000122            9.944140e-05   \n",
       "\n",
       "       KNeighborsClassifier(leaf_size=5, p=1)  \n",
       "count                              213.000000  \n",
       "mean                                 0.530516  \n",
       "std                                  0.500244  \n",
       "min                                  0.000000  \n",
       "25%                                  0.000000  \n",
       "50%                                  1.000000  \n",
       "75%                                  1.000000  \n",
       "max                                  1.000000  "
      ]
     },
     "execution_count": 86,
     "metadata": {},
     "output_type": "execute_result"
    }
   ],
   "source": [
    "pred.describe()"
   ]
  },
  {
   "cell_type": "markdown",
   "id": "313aa2c4",
   "metadata": {},
   "source": [
    "Note that the predictions provided by lasso and elasticnet are very similar, probs due to the very low alpha value."
   ]
  },
  {
   "cell_type": "markdown",
   "id": "92ad8925",
   "metadata": {},
   "source": [
    "make long/short decisions: if positive return, long, otherwise short"
   ]
  },
  {
   "cell_type": "code",
   "execution_count": 87,
   "id": "6522425b",
   "metadata": {},
   "outputs": [],
   "source": [
    "# make long/short decisions\n",
    "ls = pred.copy(deep=True)\n",
    "\n",
    "for m in ls:\n",
    "    for n in ls.index:\n",
    "        if ls[m][n] > 0:\n",
    "            ls[m][n] = 1\n",
    "        else:\n",
    "            ls[m][n] = -1\n"
   ]
  },
  {
   "cell_type": "code",
   "execution_count": 88,
   "id": "918d70f2",
   "metadata": {},
   "outputs": [
    {
     "data": {
      "text/html": [
       "<div>\n",
       "<style scoped>\n",
       "    .dataframe tbody tr th:only-of-type {\n",
       "        vertical-align: middle;\n",
       "    }\n",
       "\n",
       "    .dataframe tbody tr th {\n",
       "        vertical-align: top;\n",
       "    }\n",
       "\n",
       "    .dataframe thead th {\n",
       "        text-align: right;\n",
       "    }\n",
       "</style>\n",
       "<table border=\"1\" class=\"dataframe\">\n",
       "  <thead>\n",
       "    <tr style=\"text-align: right;\">\n",
       "      <th></th>\n",
       "      <th>LinearRegression()</th>\n",
       "      <th>Lasso(alpha=0.001)</th>\n",
       "      <th>Lasso(alpha=0.05)</th>\n",
       "      <th>Ridge(alpha=100)</th>\n",
       "      <th>ElasticNet(alpha=0.05)</th>\n",
       "      <th>KNeighborsClassifier(leaf_size=5, p=1)</th>\n",
       "    </tr>\n",
       "  </thead>\n",
       "  <tbody>\n",
       "    <tr>\n",
       "      <th>count</th>\n",
       "      <td>213.000000</td>\n",
       "      <td>213.0</td>\n",
       "      <td>213.0</td>\n",
       "      <td>213.0</td>\n",
       "      <td>213.0</td>\n",
       "      <td>213.000000</td>\n",
       "    </tr>\n",
       "    <tr>\n",
       "      <th>mean</th>\n",
       "      <td>-0.023474</td>\n",
       "      <td>1.0</td>\n",
       "      <td>1.0</td>\n",
       "      <td>1.0</td>\n",
       "      <td>1.0</td>\n",
       "      <td>0.061033</td>\n",
       "    </tr>\n",
       "    <tr>\n",
       "      <th>std</th>\n",
       "      <td>1.002080</td>\n",
       "      <td>0.0</td>\n",
       "      <td>0.0</td>\n",
       "      <td>0.0</td>\n",
       "      <td>0.0</td>\n",
       "      <td>1.000487</td>\n",
       "    </tr>\n",
       "    <tr>\n",
       "      <th>min</th>\n",
       "      <td>-1.000000</td>\n",
       "      <td>1.0</td>\n",
       "      <td>1.0</td>\n",
       "      <td>1.0</td>\n",
       "      <td>1.0</td>\n",
       "      <td>-1.000000</td>\n",
       "    </tr>\n",
       "    <tr>\n",
       "      <th>25%</th>\n",
       "      <td>-1.000000</td>\n",
       "      <td>1.0</td>\n",
       "      <td>1.0</td>\n",
       "      <td>1.0</td>\n",
       "      <td>1.0</td>\n",
       "      <td>-1.000000</td>\n",
       "    </tr>\n",
       "    <tr>\n",
       "      <th>50%</th>\n",
       "      <td>-1.000000</td>\n",
       "      <td>1.0</td>\n",
       "      <td>1.0</td>\n",
       "      <td>1.0</td>\n",
       "      <td>1.0</td>\n",
       "      <td>1.000000</td>\n",
       "    </tr>\n",
       "    <tr>\n",
       "      <th>75%</th>\n",
       "      <td>1.000000</td>\n",
       "      <td>1.0</td>\n",
       "      <td>1.0</td>\n",
       "      <td>1.0</td>\n",
       "      <td>1.0</td>\n",
       "      <td>1.000000</td>\n",
       "    </tr>\n",
       "    <tr>\n",
       "      <th>max</th>\n",
       "      <td>1.000000</td>\n",
       "      <td>1.0</td>\n",
       "      <td>1.0</td>\n",
       "      <td>1.0</td>\n",
       "      <td>1.0</td>\n",
       "      <td>1.000000</td>\n",
       "    </tr>\n",
       "  </tbody>\n",
       "</table>\n",
       "</div>"
      ],
      "text/plain": [
       "       LinearRegression()  Lasso(alpha=0.001)  Lasso(alpha=0.05)  \\\n",
       "count          213.000000               213.0              213.0   \n",
       "mean            -0.023474                 1.0                1.0   \n",
       "std              1.002080                 0.0                0.0   \n",
       "min             -1.000000                 1.0                1.0   \n",
       "25%             -1.000000                 1.0                1.0   \n",
       "50%             -1.000000                 1.0                1.0   \n",
       "75%              1.000000                 1.0                1.0   \n",
       "max              1.000000                 1.0                1.0   \n",
       "\n",
       "       Ridge(alpha=100)  ElasticNet(alpha=0.05)  \\\n",
       "count             213.0                   213.0   \n",
       "mean                1.0                     1.0   \n",
       "std                 0.0                     0.0   \n",
       "min                 1.0                     1.0   \n",
       "25%                 1.0                     1.0   \n",
       "50%                 1.0                     1.0   \n",
       "75%                 1.0                     1.0   \n",
       "max                 1.0                     1.0   \n",
       "\n",
       "       KNeighborsClassifier(leaf_size=5, p=1)  \n",
       "count                              213.000000  \n",
       "mean                                 0.061033  \n",
       "std                                  1.000487  \n",
       "min                                 -1.000000  \n",
       "25%                                 -1.000000  \n",
       "50%                                  1.000000  \n",
       "75%                                  1.000000  \n",
       "max                                  1.000000  "
      ]
     },
     "execution_count": 88,
     "metadata": {},
     "output_type": "execute_result"
    }
   ],
   "source": [
    "ls.describe()\n"
   ]
  },
  {
   "cell_type": "markdown",
   "id": "f05df531",
   "metadata": {},
   "source": [
    "plot buy/sell decisions over the year"
   ]
  },
  {
   "cell_type": "code",
   "execution_count": 89,
   "id": "0877ff26",
   "metadata": {
    "scrolled": false
   },
   "outputs": [
    {
     "data": {
      "text/plain": [
       "<Figure size 432x288 with 0 Axes>"
      ]
     },
     "execution_count": 89,
     "metadata": {},
     "output_type": "execute_result"
    },
    {
     "data": {
      "text/plain": [
       "[<matplotlib.lines.Line2D at 0x227b01dce80>]"
      ]
     },
     "execution_count": 89,
     "metadata": {},
     "output_type": "execute_result"
    },
    {
     "data": {
      "text/plain": [
       "<Figure size 432x288 with 0 Axes>"
      ]
     },
     "execution_count": 89,
     "metadata": {},
     "output_type": "execute_result"
    },
    {
     "data": {
      "text/plain": [
       "[<matplotlib.lines.Line2D at 0x227b01eb7f0>]"
      ]
     },
     "execution_count": 89,
     "metadata": {},
     "output_type": "execute_result"
    },
    {
     "data": {
      "text/plain": [
       "<Figure size 432x288 with 0 Axes>"
      ]
     },
     "execution_count": 89,
     "metadata": {},
     "output_type": "execute_result"
    },
    {
     "data": {
      "text/plain": [
       "[<matplotlib.lines.Line2D at 0x227b021a070>]"
      ]
     },
     "execution_count": 89,
     "metadata": {},
     "output_type": "execute_result"
    },
    {
     "data": {
      "text/plain": [
       "<Figure size 432x288 with 0 Axes>"
      ]
     },
     "execution_count": 89,
     "metadata": {},
     "output_type": "execute_result"
    },
    {
     "data": {
      "text/plain": [
       "[<matplotlib.lines.Line2D at 0x227b0252520>]"
      ]
     },
     "execution_count": 89,
     "metadata": {},
     "output_type": "execute_result"
    },
    {
     "data": {
      "text/plain": [
       "<Figure size 432x288 with 0 Axes>"
      ]
     },
     "execution_count": 89,
     "metadata": {},
     "output_type": "execute_result"
    },
    {
     "data": {
      "text/plain": [
       "[<matplotlib.lines.Line2D at 0x227b0294400>]"
      ]
     },
     "execution_count": 89,
     "metadata": {},
     "output_type": "execute_result"
    },
    {
     "data": {
      "text/plain": [
       "<Figure size 432x288 with 0 Axes>"
      ]
     },
     "execution_count": 89,
     "metadata": {},
     "output_type": "execute_result"
    },
    {
     "data": {
      "text/plain": [
       "[<matplotlib.lines.Line2D at 0x227b02c7dc0>]"
      ]
     },
     "execution_count": 89,
     "metadata": {},
     "output_type": "execute_result"
    },
    {
     "data": {
      "image/png": "[encoded data removed]",
      "text/plain": [
       "<Figure size 432x288 with 1 Axes>"
      ]
     },
     "metadata": {},
     "output_type": "display_data"
    },
    {
     "data": {
      "image/png": "[encoded data removed]",
      "text/plain": [
       "<Figure size 432x288 with 1 Axes>"
      ]
     },
     "metadata": {},
     "output_type": "display_data"
    },
    {
     "data": {
      "image/png": "[encoded data removed]",
      "text/plain": [
       "<Figure size 432x288 with 1 Axes>"
      ]
     },
     "metadata": {},
     "output_type": "display_data"
    },
    {
     "data": {
      "image/png": "[encoded data removed]",
      "text/plain": [
       "<Figure size 432x288 with 1 Axes>"
      ]
     },
     "metadata": {},
     "output_type": "display_data"
    },
    {
     "data": {
      "image/png": "[encoded data removed]",
      "text/plain": [
       "<Figure size 432x288 with 1 Axes>"
      ]
     },
     "metadata": {},
     "output_type": "display_data"
    },
    {
     "data": {
      "image/png": "[encoded data removed]",
      "text/plain": [
       "<Figure size 432x288 with 1 Axes>"
      ]
     },
     "metadata": {},
     "output_type": "display_data"
    }
   ],
   "source": [
    "for i in range(ls.shape[1]):\n",
    "    plt.figure(i)\n",
    "    plt.plot(ls.iloc[:, i])"
   ]
  },
  {
   "cell_type": "markdown",
   "id": "b3e72799",
   "metadata": {},
   "source": [
    "Clearly lasso, ridge, elastic nets are not ideal for this prediction."
   ]
  },
  {
   "cell_type": "markdown",
   "id": "4aa80130",
   "metadata": {},
   "source": [
    "**calculate cumulative returns based on l/s decisions**\n",
    "1. multiply each long/short decision by the day's actual return to get the day's investment return\n",
    "2. calculate culmulative return"
   ]
  },
  {
   "cell_type": "code",
   "execution_count": 90,
   "id": "7519ec1a",
   "metadata": {},
   "outputs": [
    {
     "data": {
      "text/html": [
       "<div>\n",
       "<style scoped>\n",
       "    .dataframe tbody tr th:only-of-type {\n",
       "        vertical-align: middle;\n",
       "    }\n",
       "\n",
       "    .dataframe tbody tr th {\n",
       "        vertical-align: top;\n",
       "    }\n",
       "\n",
       "    .dataframe thead th {\n",
       "        text-align: right;\n",
       "    }\n",
       "</style>\n",
       "<table border=\"1\" class=\"dataframe\">\n",
       "  <thead>\n",
       "    <tr style=\"text-align: right;\">\n",
       "      <th></th>\n",
       "      <th>Close</th>\n",
       "    </tr>\n",
       "    <tr>\n",
       "      <th>Dt</th>\n",
       "      <th></th>\n",
       "    </tr>\n",
       "  </thead>\n",
       "  <tbody>\n",
       "    <tr>\n",
       "      <th>2018-02-26</th>\n",
       "      <td>0.000000</td>\n",
       "    </tr>\n",
       "    <tr>\n",
       "      <th>2018-02-27</th>\n",
       "      <td>-0.012487</td>\n",
       "    </tr>\n",
       "    <tr>\n",
       "      <th>2018-02-28</th>\n",
       "      <td>-0.010130</td>\n",
       "    </tr>\n",
       "    <tr>\n",
       "      <th>2018-03-01</th>\n",
       "      <td>-0.014541</td>\n",
       "    </tr>\n",
       "    <tr>\n",
       "      <th>2018-03-02</th>\n",
       "      <td>0.005155</td>\n",
       "    </tr>\n",
       "    <tr>\n",
       "      <th>...</th>\n",
       "      <td>...</td>\n",
       "    </tr>\n",
       "    <tr>\n",
       "      <th>2018-12-21</th>\n",
       "      <td>-0.026176</td>\n",
       "    </tr>\n",
       "    <tr>\n",
       "      <th>2018-12-24</th>\n",
       "      <td>-0.026423</td>\n",
       "    </tr>\n",
       "    <tr>\n",
       "      <th>2018-12-26</th>\n",
       "      <td>0.050525</td>\n",
       "    </tr>\n",
       "    <tr>\n",
       "      <th>2018-12-27</th>\n",
       "      <td>0.007677</td>\n",
       "    </tr>\n",
       "    <tr>\n",
       "      <th>2018-12-28</th>\n",
       "      <td>-0.001290</td>\n",
       "    </tr>\n",
       "  </tbody>\n",
       "</table>\n",
       "<p>213 rows × 1 columns</p>\n",
       "</div>"
      ],
      "text/plain": [
       "               Close\n",
       "Dt                  \n",
       "2018-02-26  0.000000\n",
       "2018-02-27 -0.012487\n",
       "2018-02-28 -0.010130\n",
       "2018-03-01 -0.014541\n",
       "2018-03-02  0.005155\n",
       "...              ...\n",
       "2018-12-21 -0.026176\n",
       "2018-12-24 -0.026423\n",
       "2018-12-26  0.050525\n",
       "2018-12-27  0.007677\n",
       "2018-12-28 -0.001290\n",
       "\n",
       "[213 rows x 1 columns]"
      ]
     },
     "execution_count": 90,
     "metadata": {},
     "output_type": "execute_result"
    }
   ],
   "source": [
    "cr = ls.copy(deep=True)\n",
    "\n",
    "# y, but not shifted one day:\n",
    "ret = pd.DataFrame(SPY['Close'] / SPY.shift(1)['Close'] - 1).iloc[:-1, :]\n",
    "ret.iloc[0] = 0\n",
    "ret\n"
   ]
  },
  {
   "cell_type": "code",
   "execution_count": 91,
   "id": "35c09bd3",
   "metadata": {},
   "outputs": [
    {
     "data": {
      "text/html": [
       "<div>\n",
       "<style scoped>\n",
       "    .dataframe tbody tr th:only-of-type {\n",
       "        vertical-align: middle;\n",
       "    }\n",
       "\n",
       "    .dataframe tbody tr th {\n",
       "        vertical-align: top;\n",
       "    }\n",
       "\n",
       "    .dataframe thead th {\n",
       "        text-align: right;\n",
       "    }\n",
       "</style>\n",
       "<table border=\"1\" class=\"dataframe\">\n",
       "  <thead>\n",
       "    <tr style=\"text-align: right;\">\n",
       "      <th></th>\n",
       "      <th>Close</th>\n",
       "    </tr>\n",
       "  </thead>\n",
       "  <tbody>\n",
       "    <tr>\n",
       "      <th>count</th>\n",
       "      <td>213.000000</td>\n",
       "    </tr>\n",
       "    <tr>\n",
       "      <th>mean</th>\n",
       "      <td>0.999515</td>\n",
       "    </tr>\n",
       "    <tr>\n",
       "      <th>std</th>\n",
       "      <td>0.010409</td>\n",
       "    </tr>\n",
       "    <tr>\n",
       "      <th>min</th>\n",
       "      <td>0.967598</td>\n",
       "    </tr>\n",
       "    <tr>\n",
       "      <th>25%</th>\n",
       "      <td>0.994776</td>\n",
       "    </tr>\n",
       "    <tr>\n",
       "      <th>50%</th>\n",
       "      <td>1.000000</td>\n",
       "    </tr>\n",
       "    <tr>\n",
       "      <th>75%</th>\n",
       "      <td>1.004929</td>\n",
       "    </tr>\n",
       "    <tr>\n",
       "      <th>max</th>\n",
       "      <td>1.050525</td>\n",
       "    </tr>\n",
       "  </tbody>\n",
       "</table>\n",
       "</div>"
      ],
      "text/plain": [
       "            Close\n",
       "count  213.000000\n",
       "mean     0.999515\n",
       "std      0.010409\n",
       "min      0.967598\n",
       "25%      0.994776\n",
       "50%      1.000000\n",
       "75%      1.004929\n",
       "max      1.050525"
      ]
     },
     "execution_count": 91,
     "metadata": {},
     "output_type": "execute_result"
    }
   ],
   "source": [
    "# daily multiplier\n",
    "dret = ret.copy(deep=True) + 1\n",
    "dret.describe()\n"
   ]
  },
  {
   "cell_type": "code",
   "execution_count": 92,
   "id": "e4787992",
   "metadata": {},
   "outputs": [
    {
     "data": {
      "text/html": [
       "<div>\n",
       "<style scoped>\n",
       "    .dataframe tbody tr th:only-of-type {\n",
       "        vertical-align: middle;\n",
       "    }\n",
       "\n",
       "    .dataframe tbody tr th {\n",
       "        vertical-align: top;\n",
       "    }\n",
       "\n",
       "    .dataframe thead th {\n",
       "        text-align: right;\n",
       "    }\n",
       "</style>\n",
       "<table border=\"1\" class=\"dataframe\">\n",
       "  <thead>\n",
       "    <tr style=\"text-align: right;\">\n",
       "      <th></th>\n",
       "      <th>Close</th>\n",
       "      <th>Cum</th>\n",
       "    </tr>\n",
       "    <tr>\n",
       "      <th>Dt</th>\n",
       "      <th></th>\n",
       "      <th></th>\n",
       "    </tr>\n",
       "  </thead>\n",
       "  <tbody>\n",
       "    <tr>\n",
       "      <th>2018-02-26</th>\n",
       "      <td>1.000000</td>\n",
       "      <td>1.000000</td>\n",
       "    </tr>\n",
       "    <tr>\n",
       "      <th>2018-02-27</th>\n",
       "      <td>0.987513</td>\n",
       "      <td>0.987513</td>\n",
       "    </tr>\n",
       "    <tr>\n",
       "      <th>2018-02-28</th>\n",
       "      <td>0.989870</td>\n",
       "      <td>0.977510</td>\n",
       "    </tr>\n",
       "    <tr>\n",
       "      <th>2018-03-01</th>\n",
       "      <td>0.985459</td>\n",
       "      <td>0.963296</td>\n",
       "    </tr>\n",
       "    <tr>\n",
       "      <th>2018-03-02</th>\n",
       "      <td>1.005155</td>\n",
       "      <td>0.968262</td>\n",
       "    </tr>\n",
       "    <tr>\n",
       "      <th>...</th>\n",
       "      <td>...</td>\n",
       "      <td>...</td>\n",
       "    </tr>\n",
       "    <tr>\n",
       "      <th>2018-12-21</th>\n",
       "      <td>0.973824</td>\n",
       "      <td>0.866139</td>\n",
       "    </tr>\n",
       "    <tr>\n",
       "      <th>2018-12-24</th>\n",
       "      <td>0.973577</td>\n",
       "      <td>0.843253</td>\n",
       "    </tr>\n",
       "    <tr>\n",
       "      <th>2018-12-26</th>\n",
       "      <td>1.050525</td>\n",
       "      <td>0.885858</td>\n",
       "    </tr>\n",
       "    <tr>\n",
       "      <th>2018-12-27</th>\n",
       "      <td>1.007677</td>\n",
       "      <td>0.892659</td>\n",
       "    </tr>\n",
       "    <tr>\n",
       "      <th>2018-12-28</th>\n",
       "      <td>0.998710</td>\n",
       "      <td>0.891508</td>\n",
       "    </tr>\n",
       "  </tbody>\n",
       "</table>\n",
       "<p>213 rows × 2 columns</p>\n",
       "</div>"
      ],
      "text/plain": [
       "               Close       Cum\n",
       "Dt                            \n",
       "2018-02-26  1.000000  1.000000\n",
       "2018-02-27  0.987513  0.987513\n",
       "2018-02-28  0.989870  0.977510\n",
       "2018-03-01  0.985459  0.963296\n",
       "2018-03-02  1.005155  0.968262\n",
       "...              ...       ...\n",
       "2018-12-21  0.973824  0.866139\n",
       "2018-12-24  0.973577  0.843253\n",
       "2018-12-26  1.050525  0.885858\n",
       "2018-12-27  1.007677  0.892659\n",
       "2018-12-28  0.998710  0.891508\n",
       "\n",
       "[213 rows x 2 columns]"
      ]
     },
     "execution_count": 92,
     "metadata": {},
     "output_type": "execute_result"
    }
   ],
   "source": [
    "# cumulative return (actual)\n",
    "dret['Cum'] = dret.Close.cumprod()\n",
    "dret\n"
   ]
  },
  {
   "cell_type": "markdown",
   "id": "3a6c59f9",
   "metadata": {},
   "source": [
    "'follow the index' investment looks kinda sad. cum ret is going down this year"
   ]
  },
  {
   "cell_type": "code",
   "execution_count": 93,
   "id": "0cb58908",
   "metadata": {},
   "outputs": [
    {
     "data": {
      "text/html": [
       "<div>\n",
       "<style scoped>\n",
       "    .dataframe tbody tr th:only-of-type {\n",
       "        vertical-align: middle;\n",
       "    }\n",
       "\n",
       "    .dataframe tbody tr th {\n",
       "        vertical-align: top;\n",
       "    }\n",
       "\n",
       "    .dataframe thead th {\n",
       "        text-align: right;\n",
       "    }\n",
       "</style>\n",
       "<table border=\"1\" class=\"dataframe\">\n",
       "  <thead>\n",
       "    <tr style=\"text-align: right;\">\n",
       "      <th></th>\n",
       "      <th>LinearRegression()</th>\n",
       "      <th>Lasso(alpha=0.001)</th>\n",
       "      <th>Lasso(alpha=0.05)</th>\n",
       "      <th>Ridge(alpha=100)</th>\n",
       "      <th>ElasticNet(alpha=0.05)</th>\n",
       "      <th>KNeighborsClassifier(leaf_size=5, p=1)</th>\n",
       "    </tr>\n",
       "  </thead>\n",
       "  <tbody>\n",
       "    <tr>\n",
       "      <th>count</th>\n",
       "      <td>213.000000</td>\n",
       "      <td>213.000000</td>\n",
       "      <td>213.000000</td>\n",
       "      <td>213.000000</td>\n",
       "      <td>213.000000</td>\n",
       "      <td>213.000000</td>\n",
       "    </tr>\n",
       "    <tr>\n",
       "      <th>mean</th>\n",
       "      <td>-0.000073</td>\n",
       "      <td>-0.000485</td>\n",
       "      <td>-0.000485</td>\n",
       "      <td>-0.000485</td>\n",
       "      <td>-0.000485</td>\n",
       "      <td>0.000881</td>\n",
       "    </tr>\n",
       "    <tr>\n",
       "      <th>std</th>\n",
       "      <td>0.010420</td>\n",
       "      <td>0.010409</td>\n",
       "      <td>0.010409</td>\n",
       "      <td>0.010409</td>\n",
       "      <td>0.010409</td>\n",
       "      <td>0.010383</td>\n",
       "    </tr>\n",
       "    <tr>\n",
       "      <th>min</th>\n",
       "      <td>-0.027359</td>\n",
       "      <td>-0.032402</td>\n",
       "      <td>-0.032402</td>\n",
       "      <td>-0.032402</td>\n",
       "      <td>-0.032402</td>\n",
       "      <td>-0.050525</td>\n",
       "    </tr>\n",
       "    <tr>\n",
       "      <th>25%</th>\n",
       "      <td>-0.005242</td>\n",
       "      <td>-0.005224</td>\n",
       "      <td>-0.005224</td>\n",
       "      <td>-0.005224</td>\n",
       "      <td>-0.005224</td>\n",
       "      <td>-0.003383</td>\n",
       "    </tr>\n",
       "    <tr>\n",
       "      <th>50%</th>\n",
       "      <td>0.000108</td>\n",
       "      <td>0.000000</td>\n",
       "      <td>0.000000</td>\n",
       "      <td>0.000000</td>\n",
       "      <td>0.000000</td>\n",
       "      <td>0.001255</td>\n",
       "    </tr>\n",
       "    <tr>\n",
       "      <th>75%</th>\n",
       "      <td>0.004928</td>\n",
       "      <td>0.004929</td>\n",
       "      <td>0.004929</td>\n",
       "      <td>0.004929</td>\n",
       "      <td>0.004929</td>\n",
       "      <td>0.005717</td>\n",
       "    </tr>\n",
       "    <tr>\n",
       "      <th>max</th>\n",
       "      <td>0.050525</td>\n",
       "      <td>0.050525</td>\n",
       "      <td>0.050525</td>\n",
       "      <td>0.050525</td>\n",
       "      <td>0.050525</td>\n",
       "      <td>0.032402</td>\n",
       "    </tr>\n",
       "  </tbody>\n",
       "</table>\n",
       "</div>"
      ],
      "text/plain": [
       "       LinearRegression()  Lasso(alpha=0.001)  Lasso(alpha=0.05)  \\\n",
       "count          213.000000          213.000000         213.000000   \n",
       "mean            -0.000073           -0.000485          -0.000485   \n",
       "std              0.010420            0.010409           0.010409   \n",
       "min             -0.027359           -0.032402          -0.032402   \n",
       "25%             -0.005242           -0.005224          -0.005224   \n",
       "50%              0.000108            0.000000           0.000000   \n",
       "75%              0.004928            0.004929           0.004929   \n",
       "max              0.050525            0.050525           0.050525   \n",
       "\n",
       "       Ridge(alpha=100)  ElasticNet(alpha=0.05)  \\\n",
       "count        213.000000              213.000000   \n",
       "mean          -0.000485               -0.000485   \n",
       "std            0.010409                0.010409   \n",
       "min           -0.032402               -0.032402   \n",
       "25%           -0.005224               -0.005224   \n",
       "50%            0.000000                0.000000   \n",
       "75%            0.004929                0.004929   \n",
       "max            0.050525                0.050525   \n",
       "\n",
       "       KNeighborsClassifier(leaf_size=5, p=1)  \n",
       "count                              213.000000  \n",
       "mean                                 0.000881  \n",
       "std                                  0.010383  \n",
       "min                                 -0.050525  \n",
       "25%                                 -0.003383  \n",
       "50%                                  0.001255  \n",
       "75%                                  0.005717  \n",
       "max                                  0.032402  "
      ]
     },
     "execution_count": 93,
     "metadata": {},
     "output_type": "execute_result"
    }
   ],
   "source": [
    "# find daily return following ls predicted by models:\n",
    "for c in ls:\n",
    "    ls[c] = ret['Close'] * ls[c]\n",
    "ls.describe()\n"
   ]
  },
  {
   "cell_type": "code",
   "execution_count": 94,
   "id": "821db774",
   "metadata": {
    "scrolled": true
   },
   "outputs": [],
   "source": [
    "# similarly, find cumulative return following our strat\n",
    "ls += 1"
   ]
  },
  {
   "cell_type": "code",
   "execution_count": 95,
   "id": "fe7f385a",
   "metadata": {},
   "outputs": [],
   "source": [
    "ls = ls.cumprod()"
   ]
  },
  {
   "cell_type": "code",
   "execution_count": 99,
   "id": "98559283",
   "metadata": {
    "scrolled": false
   },
   "outputs": [
    {
     "data": {
      "text/plain": [
       "<AxesSubplot:xlabel='Dt'>"
      ]
     },
     "execution_count": 99,
     "metadata": {},
     "output_type": "execute_result"
    },
    {
     "data": {
      "text/html": [
       "<div>\n",
       "<style scoped>\n",
       "    .dataframe tbody tr th:only-of-type {\n",
       "        vertical-align: middle;\n",
       "    }\n",
       "\n",
       "    .dataframe tbody tr th {\n",
       "        vertical-align: top;\n",
       "    }\n",
       "\n",
       "    .dataframe thead th {\n",
       "        text-align: right;\n",
       "    }\n",
       "</style>\n",
       "<table border=\"1\" class=\"dataframe\">\n",
       "  <thead>\n",
       "    <tr style=\"text-align: right;\">\n",
       "      <th></th>\n",
       "      <th>SPY</th>\n",
       "      <th>LinearRegression()</th>\n",
       "      <th>Lasso(alpha=0.001)</th>\n",
       "      <th>Lasso(alpha=0.05)</th>\n",
       "      <th>Ridge(alpha=100)</th>\n",
       "      <th>ElasticNet(alpha=0.05)</th>\n",
       "      <th>KNeighborsClassifier(leaf_size=5, p=1)</th>\n",
       "    </tr>\n",
       "  </thead>\n",
       "  <tbody>\n",
       "    <tr>\n",
       "      <th>count</th>\n",
       "      <td>213.000000</td>\n",
       "      <td>213.000000</td>\n",
       "      <td>213.000000</td>\n",
       "      <td>213.000000</td>\n",
       "      <td>213.000000</td>\n",
       "      <td>213.000000</td>\n",
       "      <td>213.000000</td>\n",
       "    </tr>\n",
       "    <tr>\n",
       "      <th>mean</th>\n",
       "      <td>0.987527</td>\n",
       "      <td>1.003998</td>\n",
       "      <td>0.987527</td>\n",
       "      <td>0.987527</td>\n",
       "      <td>0.987527</td>\n",
       "      <td>0.987527</td>\n",
       "      <td>0.974931</td>\n",
       "    </tr>\n",
       "    <tr>\n",
       "      <th>std</th>\n",
       "      <td>0.037530</td>\n",
       "      <td>0.030818</td>\n",
       "      <td>0.037530</td>\n",
       "      <td>0.037530</td>\n",
       "      <td>0.037530</td>\n",
       "      <td>0.037530</td>\n",
       "      <td>0.073710</td>\n",
       "    </tr>\n",
       "    <tr>\n",
       "      <th>min</th>\n",
       "      <td>0.843253</td>\n",
       "      <td>0.920585</td>\n",
       "      <td>0.843253</td>\n",
       "      <td>0.843253</td>\n",
       "      <td>0.843253</td>\n",
       "      <td>0.843253</td>\n",
       "      <td>0.883249</td>\n",
       "    </tr>\n",
       "    <tr>\n",
       "      <th>25%</th>\n",
       "      <td>0.963548</td>\n",
       "      <td>0.982422</td>\n",
       "      <td>0.963548</td>\n",
       "      <td>0.963548</td>\n",
       "      <td>0.963548</td>\n",
       "      <td>0.963548</td>\n",
       "      <td>0.927567</td>\n",
       "    </tr>\n",
       "    <tr>\n",
       "      <th>50%</th>\n",
       "      <td>0.985894</td>\n",
       "      <td>0.997931</td>\n",
       "      <td>0.985894</td>\n",
       "      <td>0.985894</td>\n",
       "      <td>0.985894</td>\n",
       "      <td>0.985894</td>\n",
       "      <td>0.951850</td>\n",
       "    </tr>\n",
       "    <tr>\n",
       "      <th>75%</th>\n",
       "      <td>1.011371</td>\n",
       "      <td>1.021912</td>\n",
       "      <td>1.011371</td>\n",
       "      <td>1.011371</td>\n",
       "      <td>1.011371</td>\n",
       "      <td>1.011371</td>\n",
       "      <td>0.987222</td>\n",
       "    </tr>\n",
       "    <tr>\n",
       "      <th>max</th>\n",
       "      <td>1.056423</td>\n",
       "      <td>1.093120</td>\n",
       "      <td>1.056423</td>\n",
       "      <td>1.056423</td>\n",
       "      <td>1.056423</td>\n",
       "      <td>1.056423</td>\n",
       "      <td>1.267436</td>\n",
       "    </tr>\n",
       "  </tbody>\n",
       "</table>\n",
       "</div>"
      ],
      "text/plain": [
       "              SPY  LinearRegression()  Lasso(alpha=0.001)  Lasso(alpha=0.05)  \\\n",
       "count  213.000000          213.000000          213.000000         213.000000   \n",
       "mean     0.987527            1.003998            0.987527           0.987527   \n",
       "std      0.037530            0.030818            0.037530           0.037530   \n",
       "min      0.843253            0.920585            0.843253           0.843253   \n",
       "25%      0.963548            0.982422            0.963548           0.963548   \n",
       "50%      0.985894            0.997931            0.985894           0.985894   \n",
       "75%      1.011371            1.021912            1.011371           1.011371   \n",
       "max      1.056423            1.093120            1.056423           1.056423   \n",
       "\n",
       "       Ridge(alpha=100)  ElasticNet(alpha=0.05)  \\\n",
       "count        213.000000              213.000000   \n",
       "mean           0.987527                0.987527   \n",
       "std            0.037530                0.037530   \n",
       "min            0.843253                0.843253   \n",
       "25%            0.963548                0.963548   \n",
       "50%            0.985894                0.985894   \n",
       "75%            1.011371                1.011371   \n",
       "max            1.056423                1.056423   \n",
       "\n",
       "       KNeighborsClassifier(leaf_size=5, p=1)  \n",
       "count                              213.000000  \n",
       "mean                                 0.974931  \n",
       "std                                  0.073710  \n",
       "min                                  0.883249  \n",
       "25%                                  0.927567  \n",
       "50%                                  0.951850  \n",
       "75%                                  0.987222  \n",
       "max                                  1.267436  "
      ]
     },
     "execution_count": 99,
     "metadata": {},
     "output_type": "execute_result"
    },
    {
     "data": {
      "image/png": "[encoded data removed]",
      "text/plain": [
       "<Figure size 864x576 with 1 Axes>"
      ]
     },
     "metadata": {},
     "output_type": "display_data"
    }
   ],
   "source": [
    "dret.rename(columns={'Close': 'Daily', 'Cum': 'SPY'}, inplace=True)\n",
    "\n",
    "import matplotlib.pyplot as plt\n",
    "plt.rcParams[\"figure.figsize\"] = (12,8)\n",
    "\n",
    "# plot\n",
    "returns = pd.concat([dret['SPY'], ls], axis=1)\n",
    "returns.plot()\n",
    "returns.describe()\n"
   ]
  },
  {
   "cell_type": "markdown",
   "id": "0d46aa7d",
   "metadata": {},
   "source": [
    "Note: the cum ret of SPY, lassos, and elastic net completely overlap. This is because the models' (lasso, ridge, elastic net are l1, so neg vals are alwasy mirrored to pos vals) prediction didn't provide a predicted return that's less than zero, thus longs were always taken each day, resulting in the same final cum ret as the index."
   ]
  },
  {
   "cell_type": "code",
   "execution_count": 101,
   "id": "a7adb6bc",
   "metadata": {},
   "outputs": [
    {
     "data": {
      "text/plain": [
       "SPY                                      -0.127043\n",
       "LinearRegression()                       -0.031552\n",
       "Lasso(alpha=0.001)                       -0.127043\n",
       "Lasso(alpha=0.05)                        -0.127043\n",
       "Ridge(alpha=100)                         -0.127043\n",
       "ElasticNet(alpha=0.05)                   -0.127043\n",
       "KNeighborsClassifier(leaf_size=5, p=1)    0.231713\n",
       "Name: 2018-12-28 00:00:00, dtype: float64"
      ]
     },
     "execution_count": 101,
     "metadata": {},
     "output_type": "execute_result"
    }
   ],
   "source": [
    "annualized_ret = returns.iloc[-1].copy(deep=True)\n",
    "annualized_ret = pow(annualized_ret, 252/213) - 1\n",
    "annualized_ret"
   ]
  },
  {
   "cell_type": "markdown",
   "id": "d556d22e",
   "metadata": {},
   "source": [
    "kNN provided the most impressive, and the only positive, annualized return."
   ]
  },
  {
   "cell_type": "code",
   "execution_count": 104,
   "id": "6a33a289",
   "metadata": {},
   "outputs": [
    {
     "data": {
      "text/plain": [
       "SPY                                      -3.451399\n",
       "LinearRegression()                       -2.726922\n",
       "Lasso(alpha=0.001)                       -3.451399\n",
       "Lasso(alpha=0.05)                        -3.451399\n",
       "Ridge(alpha=100)                         -3.451399\n",
       "ElasticNet(alpha=0.05)                   -3.451399\n",
       "KNeighborsClassifier(leaf_size=5, p=1)   -0.783161\n",
       "Name: 2018-12-28 00:00:00, dtype: float64"
      ]
     },
     "execution_count": 104,
     "metadata": {},
     "output_type": "execute_result"
    }
   ],
   "source": [
    "sharpe = returns.iloc[-1].copy(deep=True)\n",
    "sharpe = (sharpe - 1.281) / sharpe.std()\n",
    "sharpe"
   ]
  },
  {
   "cell_type": "markdown",
   "id": "f84a2128",
   "metadata": {},
   "source": [
    "2.81% used as the riskfree rate (10 yr tbond rate) https://ycharts.com/indicators/10_year_treasury_rate|\n",
    "terrible sharpe ratios. kNN was the best among all portfolios"
   ]
  },
  {
   "cell_type": "markdown",
   "id": "d678771f",
   "metadata": {},
   "source": [
    "Done!"
   ]
  },
  {
   "cell_type": "code",
   "execution_count": null,
   "id": "dacea3bf",
   "metadata": {},
   "outputs": [],
   "source": []
  }
 ],
 "metadata": {
  "kernelspec": {
   "display_name": "Python 3 (ipykernel)",
   "language": "python",
   "name": "python3"
  },
  "language_info": {
   "codemirror_mode": {
    "name": "ipython",
    "version": 3
   },
   "file_extension": ".py",
   "mimetype": "text/x-python",
   "name": "python",
   "nbconvert_exporter": "python",
   "pygments_lexer": "ipython3",
   "version": "3.9.13"
  }
 },
 "nbformat": 4,
 "nbformat_minor": 5
}
