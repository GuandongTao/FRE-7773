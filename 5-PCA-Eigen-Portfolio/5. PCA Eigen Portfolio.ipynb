{
 "cells": [
  {
   "cell_type": "markdown",
   "metadata": {},
   "source": [
    "# Note: I changed some of the code provided. I removed SPY from data set early on to stop it from haunting me everywhere. I thus also removed all 'assert' lines. Lots of useless lines in this document ngl. Was a little bothered so I removed some of them. I also did some decoration by adding my own helper lines, etc. If I were to write this all the way from beginning, I'd put a lot more of some trash repetitive code in funcs."
   ]
  },
  {
   "cell_type": "markdown",
   "metadata": {},
   "source": [
    "## Eigen-portfolio construction using Principal Component Analysis (PCA)\n",
    "\n",
    "### PCA via sklearn.decomposition using S&P 500 Index stock data\n",
    "\n",
    "Welcome to your first assignment in Unsupervised Machine Learning in Finance.\n",
    "\n",
    "In this assignment we look in-depth at model-free factor analysis using PCA. By model-free we mean that we do not rely on any factors such as value or momentum to decompose portfolio returns, but instead using Principal Component Analysis (PCA) to deduce structure of portfolio returns.\n",
    "\n",
    "We work with S&P 500 index stock data. \n",
    "\n",
    "Please read the attached article by Avellaneda and Lee which can also be found at:\n",
    "http://math.nyu.edu/faculty/avellane/AvellanedaLeeStatArb20090616.pdf\n"
   ]
  },
  {
   "cell_type": "markdown",
   "metadata": {},
   "source": [
    "## General Instructions ##\n",
    "\n",
    "You only need to write code between the ### START CODE HERE ### and ### END CODE HERE ### comments. After writing your code, you can run the cell by either pressing \"SHIFT\"+\"ENTER\" or by clicking on \"Run Cell\" (denoted by a play symbol) in the upper bar of the notebook. \n",
    "\n",
    "We will often specify \"(≈ X lines of code)\" in the comments to tell you about how much code you need to write. It is just a rough estimate, so don't feel bad if your code is longer or shorter."
   ]
  },
  {
   "cell_type": "code",
   "execution_count": 2,
   "metadata": {},
   "outputs": [],
   "source": [
    "import os\n",
    "import os.path\n",
    "import datetime\n",
    "import numpy as np\n",
    "import pandas as pd\n",
    "import matplotlib.pyplot as plt\n",
    "%matplotlib inline\n",
    "import seaborn as sns\n",
    "from pylab import rcParams\n",
    "\n",
    "import sys\n",
    "sys.path.append(\"..\")\n",
    "# import grading\n",
    "\n",
    "\n",
    "# standard magic\n",
    "from IPython.core.interactiveshell import InteractiveShell\n",
    "InteractiveShell.ast_node_interactivity = \"all\"\n",
    "\n",
    "# Reload all modules imported with %aimport\n",
    "%load_ext autoreload\n",
    "%autoreload 1\n",
    "\n",
    "# disable warnings\n",
    "import warnings\n",
    "warnings.filterwarnings('ignore')"
   ]
  },
  {
   "cell_type": "markdown",
   "metadata": {},
   "source": [
    "## Part 0 : Read Data \n",
    "### Instruction:\n",
    "### Please fill the '####' to read the data of spx_holdings_and_spx_closeprice.csv"
   ]
  },
  {
   "cell_type": "code",
   "execution_count": 3,
   "metadata": {},
   "outputs": [
    {
     "name": "stdout",
     "output_type": "stream",
     "text": [
      "Asset prices shape (3493, 418)\n"
     ]
    },
    {
     "data": {
      "text/html": [
       "<div>\n",
       "<style scoped>\n",
       "    .dataframe tbody tr th:only-of-type {\n",
       "        vertical-align: middle;\n",
       "    }\n",
       "\n",
       "    .dataframe tbody tr th {\n",
       "        vertical-align: top;\n",
       "    }\n",
       "\n",
       "    .dataframe thead th {\n",
       "        text-align: right;\n",
       "    }\n",
       "</style>\n",
       "<table border=\"1\" class=\"dataframe\">\n",
       "  <thead>\n",
       "    <tr style=\"text-align: right;\">\n",
       "      <th></th>\n",
       "      <th>A</th>\n",
       "      <th>AA</th>\n",
       "      <th>AAPL</th>\n",
       "      <th>ABC</th>\n",
       "      <th>ABT</th>\n",
       "      <th>ADBE</th>\n",
       "      <th>ADI</th>\n",
       "      <th>ADM</th>\n",
       "      <th>ADP</th>\n",
       "      <th>ADSK</th>\n",
       "      <th>AEE</th>\n",
       "      <th>AEP</th>\n",
       "      <th>AES</th>\n",
       "      <th>AFL</th>\n",
       "      <th>AGN</th>\n",
       "    </tr>\n",
       "  </thead>\n",
       "  <tbody>\n",
       "    <tr>\n",
       "      <th>2000-01-27</th>\n",
       "      <td>46.1112</td>\n",
       "      <td>78.9443</td>\n",
       "      <td>3.9286</td>\n",
       "      <td>4.5485</td>\n",
       "      <td>13.7898</td>\n",
       "      <td>15.6719</td>\n",
       "      <td>48.0313</td>\n",
       "      <td>10.8844</td>\n",
       "      <td>39.5477</td>\n",
       "      <td>8.1250</td>\n",
       "      <td>32.9375</td>\n",
       "      <td>33.5625</td>\n",
       "      <td>37.9375</td>\n",
       "      <td>20.5938</td>\n",
       "      <td>39.688</td>\n",
       "    </tr>\n",
       "    <tr>\n",
       "      <th>2000-01-28</th>\n",
       "      <td>45.8585</td>\n",
       "      <td>77.8245</td>\n",
       "      <td>3.6295</td>\n",
       "      <td>4.5485</td>\n",
       "      <td>14.2653</td>\n",
       "      <td>14.3906</td>\n",
       "      <td>47.7500</td>\n",
       "      <td>10.7143</td>\n",
       "      <td>38.5627</td>\n",
       "      <td>7.7188</td>\n",
       "      <td>32.3125</td>\n",
       "      <td>33.0000</td>\n",
       "      <td>38.1875</td>\n",
       "      <td>21.0000</td>\n",
       "      <td>40.250</td>\n",
       "    </tr>\n",
       "    <tr>\n",
       "      <th>2000-01-31</th>\n",
       "      <td>44.5952</td>\n",
       "      <td>78.0345</td>\n",
       "      <td>3.7054</td>\n",
       "      <td>4.3968</td>\n",
       "      <td>14.5730</td>\n",
       "      <td>13.7656</td>\n",
       "      <td>46.7500</td>\n",
       "      <td>10.6576</td>\n",
       "      <td>37.3807</td>\n",
       "      <td>7.6406</td>\n",
       "      <td>32.5625</td>\n",
       "      <td>33.5000</td>\n",
       "      <td>40.0625</td>\n",
       "      <td>21.7188</td>\n",
       "      <td>40.313</td>\n",
       "    </tr>\n",
       "    <tr>\n",
       "      <th>2000-02-01</th>\n",
       "      <td>47.8377</td>\n",
       "      <td>80.7640</td>\n",
       "      <td>3.5804</td>\n",
       "      <td>4.5333</td>\n",
       "      <td>14.7128</td>\n",
       "      <td>13.9688</td>\n",
       "      <td>49.0000</td>\n",
       "      <td>10.8844</td>\n",
       "      <td>37.9717</td>\n",
       "      <td>7.9219</td>\n",
       "      <td>32.5625</td>\n",
       "      <td>33.6875</td>\n",
       "      <td>40.3750</td>\n",
       "      <td>22.1563</td>\n",
       "      <td>41.375</td>\n",
       "    </tr>\n",
       "    <tr>\n",
       "      <th>2000-02-02</th>\n",
       "      <td>51.5434</td>\n",
       "      <td>83.4934</td>\n",
       "      <td>3.5290</td>\n",
       "      <td>4.5788</td>\n",
       "      <td>14.7968</td>\n",
       "      <td>15.3281</td>\n",
       "      <td>48.1250</td>\n",
       "      <td>10.6576</td>\n",
       "      <td>35.9032</td>\n",
       "      <td>7.9688</td>\n",
       "      <td>32.5625</td>\n",
       "      <td>33.6250</td>\n",
       "      <td>39.6563</td>\n",
       "      <td>22.1875</td>\n",
       "      <td>42.813</td>\n",
       "    </tr>\n",
       "  </tbody>\n",
       "</table>\n",
       "</div>"
      ],
      "text/plain": [
       "                  A       AA    AAPL     ABC      ABT     ADBE      ADI  \\\n",
       "2000-01-27  46.1112  78.9443  3.9286  4.5485  13.7898  15.6719  48.0313   \n",
       "2000-01-28  45.8585  77.8245  3.6295  4.5485  14.2653  14.3906  47.7500   \n",
       "2000-01-31  44.5952  78.0345  3.7054  4.3968  14.5730  13.7656  46.7500   \n",
       "2000-02-01  47.8377  80.7640  3.5804  4.5333  14.7128  13.9688  49.0000   \n",
       "2000-02-02  51.5434  83.4934  3.5290  4.5788  14.7968  15.3281  48.1250   \n",
       "\n",
       "                ADM      ADP    ADSK      AEE      AEP      AES      AFL  \\\n",
       "2000-01-27  10.8844  39.5477  8.1250  32.9375  33.5625  37.9375  20.5938   \n",
       "2000-01-28  10.7143  38.5627  7.7188  32.3125  33.0000  38.1875  21.0000   \n",
       "2000-01-31  10.6576  37.3807  7.6406  32.5625  33.5000  40.0625  21.7188   \n",
       "2000-02-01  10.8844  37.9717  7.9219  32.5625  33.6875  40.3750  22.1563   \n",
       "2000-02-02  10.6576  35.9032  7.9688  32.5625  33.6250  39.6563  22.1875   \n",
       "\n",
       "               AGN  \n",
       "2000-01-27  39.688  \n",
       "2000-01-28  40.250  \n",
       "2000-01-31  40.313  \n",
       "2000-02-01  41.375  \n",
       "2000-02-02  42.813  "
      ]
     },
     "execution_count": 3,
     "metadata": {},
     "output_type": "execute_result"
    }
   ],
   "source": [
    "# load dataset\n",
    "all_prices = pd.read_csv('C:/Users/Allen Tao/Desktop/FRE 7773/Assignments/A5/A5 Data/data.csv',\n",
    "                     date_parser=lambda dt: pd.to_datetime(dt, format='%Y-%m-%d'),\n",
    "                     index_col = 0).dropna()\n",
    "asset_prices = all_prices.iloc[:, :-1] # remove SPY once and for all\n",
    "n_stocks_show = 15\n",
    "print('Asset prices shape', asset_prices.shape)\n",
    "asset_prices.iloc[:, :n_stocks_show].head()"
   ]
  },
  {
   "cell_type": "markdown",
   "metadata": {},
   "source": [
    "#### Part 1 (Asset Returns Calculation)\n",
    "**Instructions:**\n",
    "\n",
    "Calculate percent returns, also known as simple returns using asse_prices. assign the result to variable asset_returns. Keep only not-nan values in the resulting pandas.DataFrame\n",
    "\n",
    "Calculate de-meaned returns and scale them by standard deviation $\\sigma$. Assign result to normed_returns variable"
   ]
  },
  {
   "cell_type": "markdown",
   "metadata": {},
   "source": [
    "We now compute stock returns and normalize stock returns data by subtracting the mean and dividing by standard diviation. This normalization is required by PCA."
   ]
  },
  {
   "cell_type": "code",
   "execution_count": 4,
   "metadata": {
    "scrolled": false
   },
   "outputs": [
    {
     "data": {
      "text/html": [
       "<div>\n",
       "<style scoped>\n",
       "    .dataframe tbody tr th:only-of-type {\n",
       "        vertical-align: middle;\n",
       "    }\n",
       "\n",
       "    .dataframe tbody tr th {\n",
       "        vertical-align: top;\n",
       "    }\n",
       "\n",
       "    .dataframe thead th {\n",
       "        text-align: right;\n",
       "    }\n",
       "</style>\n",
       "<table border=\"1\" class=\"dataframe\">\n",
       "  <thead>\n",
       "    <tr style=\"text-align: right;\">\n",
       "      <th></th>\n",
       "      <th>SPLS</th>\n",
       "      <th>STJ</th>\n",
       "      <th>SVU</th>\n",
       "      <th>SWY</th>\n",
       "      <th>TEG</th>\n",
       "      <th>TER</th>\n",
       "      <th>TGNA</th>\n",
       "      <th>THC</th>\n",
       "      <th>X</th>\n",
       "      <th>MAR.1</th>\n",
       "    </tr>\n",
       "  </thead>\n",
       "  <tbody>\n",
       "    <tr>\n",
       "      <th>2013-12-16</th>\n",
       "      <td>-0.065624</td>\n",
       "      <td>0.852722</td>\n",
       "      <td>0.965219</td>\n",
       "      <td>-1.168885</td>\n",
       "      <td>0.884751</td>\n",
       "      <td>0.095865</td>\n",
       "      <td>0.656639</td>\n",
       "      <td>0.180014</td>\n",
       "      <td>-0.238498</td>\n",
       "      <td>0.465047</td>\n",
       "    </tr>\n",
       "    <tr>\n",
       "      <th>2013-12-17</th>\n",
       "      <td>-0.496711</td>\n",
       "      <td>0.275173</td>\n",
       "      <td>0.517307</td>\n",
       "      <td>-0.086106</td>\n",
       "      <td>-0.306213</td>\n",
       "      <td>0.589689</td>\n",
       "      <td>-0.118610</td>\n",
       "      <td>-0.549523</td>\n",
       "      <td>0.025268</td>\n",
       "      <td>-0.260013</td>\n",
       "    </tr>\n",
       "    <tr>\n",
       "      <th>2013-12-18</th>\n",
       "      <td>1.012144</td>\n",
       "      <td>0.864485</td>\n",
       "      <td>0.509435</td>\n",
       "      <td>0.600714</td>\n",
       "      <td>1.210605</td>\n",
       "      <td>-0.190024</td>\n",
       "      <td>0.925461</td>\n",
       "      <td>0.756998</td>\n",
       "      <td>0.058428</td>\n",
       "      <td>0.952458</td>\n",
       "    </tr>\n",
       "    <tr>\n",
       "      <th>2013-12-19</th>\n",
       "      <td>-0.115034</td>\n",
       "      <td>0.210069</td>\n",
       "      <td>0.399574</td>\n",
       "      <td>-0.100159</td>\n",
       "      <td>-0.757419</td>\n",
       "      <td>-0.208023</td>\n",
       "      <td>0.304913</td>\n",
       "      <td>-0.772205</td>\n",
       "      <td>1.544228</td>\n",
       "      <td>-0.167775</td>\n",
       "    </tr>\n",
       "    <tr>\n",
       "      <th>2013-12-20</th>\n",
       "      <td>0.361476</td>\n",
       "      <td>0.827306</td>\n",
       "      <td>0.748420</td>\n",
       "      <td>0.372443</td>\n",
       "      <td>1.048113</td>\n",
       "      <td>0.264046</td>\n",
       "      <td>0.436874</td>\n",
       "      <td>0.320641</td>\n",
       "      <td>-0.740854</td>\n",
       "      <td>0.373717</td>\n",
       "    </tr>\n",
       "  </tbody>\n",
       "</table>\n",
       "</div>"
      ],
      "text/plain": [
       "                SPLS       STJ       SVU       SWY       TEG       TER  \\\n",
       "2013-12-16 -0.065624  0.852722  0.965219 -1.168885  0.884751  0.095865   \n",
       "2013-12-17 -0.496711  0.275173  0.517307 -0.086106 -0.306213  0.589689   \n",
       "2013-12-18  1.012144  0.864485  0.509435  0.600714  1.210605 -0.190024   \n",
       "2013-12-19 -0.115034  0.210069  0.399574 -0.100159 -0.757419 -0.208023   \n",
       "2013-12-20  0.361476  0.827306  0.748420  0.372443  1.048113  0.264046   \n",
       "\n",
       "                TGNA       THC         X     MAR.1  \n",
       "2013-12-16  0.656639  0.180014 -0.238498  0.465047  \n",
       "2013-12-17 -0.118610 -0.549523  0.025268 -0.260013  \n",
       "2013-12-18  0.925461  0.756998  0.058428  0.952458  \n",
       "2013-12-19  0.304913 -0.772205  1.544228 -0.167775  \n",
       "2013-12-20  0.436874  0.320641 -0.740854  0.373717  "
      ]
     },
     "execution_count": 4,
     "metadata": {},
     "output_type": "execute_result"
    }
   ],
   "source": [
    "asset_returns = pd.DataFrame(data=np.zeros(shape=(len(asset_prices.index), asset_prices.shape[1])), \n",
    "                             columns=asset_prices.columns.values,\n",
    "                             index=asset_prices.index)\n",
    "\n",
    "### START CODE HERE ### (≈ 4 lines of code)\n",
    "all_prices_returns = all_prices.pct_change(1)\n",
    "all_prices_returns.dropna(axis=0, inplace=True)\n",
    "asset_returns = all_prices_returns.iloc[:, :-1]\n",
    "\n",
    "\n",
    "# normed_returns is pandas.DataFrame that should contain normalized returns\n",
    "# normed_returns\n",
    "normed_returns = (asset_returns - asset_returns.mean()) / asset_returns.std(ddof=1)\n",
    "\n",
    "### END CODE HERE ###\n",
    "\n",
    "normed_returns.iloc[-5:, -10:].head()\n"
   ]
  },
  {
   "cell_type": "code",
   "execution_count": 5,
   "metadata": {},
   "outputs": [
    {
     "name": "stdout",
     "output_type": "stream",
     "text": [
      "Train dataset: (3055, 418)\n",
      "Test dataset: (437, 418)\n"
     ]
    }
   ],
   "source": [
    "train_end = datetime.datetime(2012, 3, 26) \n",
    "\n",
    "df_train = None\n",
    "df_test = None\n",
    "df_raw_train = None\n",
    "df_raw_test = None\n",
    "\n",
    "df_train = normed_returns[normed_returns.index <= train_end].copy()\n",
    "df_test = normed_returns[normed_returns.index > train_end].copy()\n",
    "\n",
    "df_raw_train = asset_returns[asset_returns.index <= train_end].copy()\n",
    "df_raw_test = asset_returns[asset_returns.index > train_end].copy()\n",
    "\n",
    "print('Train dataset:', df_train.shape)\n",
    "print('Test dataset:', df_test.shape)"
   ]
  },
  {
   "cell_type": "code",
   "execution_count": 6,
   "metadata": {},
   "outputs": [
    {
     "data": {
      "text/plain": [
       "2012-03-27   -0.002817\n",
       "2012-03-28   -0.004942\n",
       "2012-03-29   -0.001608\n",
       "2012-03-30    0.003698\n",
       "2012-04-02    0.007505\n",
       "                ...   \n",
       "2013-12-16    0.006320\n",
       "2013-12-17   -0.003101\n",
       "2013-12-18    0.016648\n",
       "2013-12-19   -0.000580\n",
       "2013-12-20    0.004819\n",
       "Name: SPX, Length: 437, dtype: float64"
      ]
     },
     "execution_count": 6,
     "metadata": {},
     "output_type": "execute_result"
    }
   ],
   "source": [
    "spy_raw_test = all_prices_returns.SPX[df_raw_test.index]\n",
    "spy_raw_test"
   ]
  },
  {
   "cell_type": "markdown",
   "metadata": {},
   "source": [
    "#### Part 2 (PCA fitting)\n",
    "**Instructions:**\n",
    "- Calculate covariance matrix using training data set, i.e. **df_train** for all assets.  Assign results to **cov_matrix**.\n",
    "- Calculate covariance matrix using training data set, i.e. **df_raw_train** for all assets.  Assign results to **cov_matrix_raw**.\n",
    "- Use scikit-learn PCA to fit PCA model to **cov_matrix**. Assign fitted model to **pca**"
   ]
  },
  {
   "cell_type": "code",
   "execution_count": 7,
   "metadata": {},
   "outputs": [
    {
     "data": {
      "text/plain": [
       "418"
      ]
     },
     "execution_count": 7,
     "metadata": {},
     "output_type": "execute_result"
    }
   ],
   "source": [
    "stock_tickers = normed_returns.columns.values\n",
    "n_tickers = len(stock_tickers)\n",
    "n_tickers # I kicked SPY out earlier on "
   ]
  },
  {
   "cell_type": "code",
   "execution_count": 8,
   "metadata": {},
   "outputs": [
    {
     "data": {
      "text/html": [
       "<div>\n",
       "<style scoped>\n",
       "    .dataframe tbody tr th:only-of-type {\n",
       "        vertical-align: middle;\n",
       "    }\n",
       "\n",
       "    .dataframe tbody tr th {\n",
       "        vertical-align: top;\n",
       "    }\n",
       "\n",
       "    .dataframe thead th {\n",
       "        text-align: right;\n",
       "    }\n",
       "</style>\n",
       "<table border=\"1\" class=\"dataframe\">\n",
       "  <thead>\n",
       "    <tr style=\"text-align: right;\">\n",
       "      <th></th>\n",
       "      <th>A</th>\n",
       "      <th>AA</th>\n",
       "      <th>AAPL</th>\n",
       "      <th>ABC</th>\n",
       "      <th>ABT</th>\n",
       "      <th>ADBE</th>\n",
       "      <th>ADI</th>\n",
       "      <th>ADM</th>\n",
       "      <th>ADP</th>\n",
       "      <th>ADSK</th>\n",
       "      <th>...</th>\n",
       "      <th>SPLS</th>\n",
       "      <th>STJ</th>\n",
       "      <th>SVU</th>\n",
       "      <th>SWY</th>\n",
       "      <th>TEG</th>\n",
       "      <th>TER</th>\n",
       "      <th>TGNA</th>\n",
       "      <th>THC</th>\n",
       "      <th>X</th>\n",
       "      <th>MAR.1</th>\n",
       "    </tr>\n",
       "  </thead>\n",
       "  <tbody>\n",
       "    <tr>\n",
       "      <th>A</th>\n",
       "      <td>1.104466</td>\n",
       "      <td>0.439162</td>\n",
       "      <td>0.398369</td>\n",
       "      <td>0.185769</td>\n",
       "      <td>0.145685</td>\n",
       "      <td>0.459210</td>\n",
       "      <td>0.589315</td>\n",
       "      <td>0.255257</td>\n",
       "      <td>0.371152</td>\n",
       "      <td>0.441491</td>\n",
       "      <td>...</td>\n",
       "      <td>0.358685</td>\n",
       "      <td>0.305122</td>\n",
       "      <td>0.170880</td>\n",
       "      <td>0.202256</td>\n",
       "      <td>0.331676</td>\n",
       "      <td>0.568075</td>\n",
       "      <td>0.331807</td>\n",
       "      <td>0.154200</td>\n",
       "      <td>0.374973</td>\n",
       "      <td>0.416130</td>\n",
       "    </tr>\n",
       "    <tr>\n",
       "      <th>AA</th>\n",
       "      <td>0.439162</td>\n",
       "      <td>1.094241</td>\n",
       "      <td>0.322609</td>\n",
       "      <td>0.297756</td>\n",
       "      <td>0.296690</td>\n",
       "      <td>0.384242</td>\n",
       "      <td>0.373410</td>\n",
       "      <td>0.480384</td>\n",
       "      <td>0.461335</td>\n",
       "      <td>0.402252</td>\n",
       "      <td>...</td>\n",
       "      <td>0.436178</td>\n",
       "      <td>0.333620</td>\n",
       "      <td>0.303222</td>\n",
       "      <td>0.312575</td>\n",
       "      <td>0.447970</td>\n",
       "      <td>0.457299</td>\n",
       "      <td>0.468958</td>\n",
       "      <td>0.303627</td>\n",
       "      <td>0.727330</td>\n",
       "      <td>0.540264</td>\n",
       "    </tr>\n",
       "    <tr>\n",
       "      <th>AAPL</th>\n",
       "      <td>0.398369</td>\n",
       "      <td>0.322609</td>\n",
       "      <td>1.081901</td>\n",
       "      <td>0.177206</td>\n",
       "      <td>0.150544</td>\n",
       "      <td>0.450774</td>\n",
       "      <td>0.462401</td>\n",
       "      <td>0.228062</td>\n",
       "      <td>0.321280</td>\n",
       "      <td>0.395329</td>\n",
       "      <td>...</td>\n",
       "      <td>0.337683</td>\n",
       "      <td>0.178453</td>\n",
       "      <td>0.180334</td>\n",
       "      <td>0.194835</td>\n",
       "      <td>0.277540</td>\n",
       "      <td>0.488443</td>\n",
       "      <td>0.255837</td>\n",
       "      <td>0.116257</td>\n",
       "      <td>0.334717</td>\n",
       "      <td>0.375402</td>\n",
       "    </tr>\n",
       "    <tr>\n",
       "      <th>ABC</th>\n",
       "      <td>0.185769</td>\n",
       "      <td>0.297756</td>\n",
       "      <td>0.177206</td>\n",
       "      <td>1.105170</td>\n",
       "      <td>0.365925</td>\n",
       "      <td>0.259723</td>\n",
       "      <td>0.223895</td>\n",
       "      <td>0.276246</td>\n",
       "      <td>0.330277</td>\n",
       "      <td>0.231413</td>\n",
       "      <td>...</td>\n",
       "      <td>0.241031</td>\n",
       "      <td>0.318381</td>\n",
       "      <td>0.231832</td>\n",
       "      <td>0.243912</td>\n",
       "      <td>0.344060</td>\n",
       "      <td>0.209836</td>\n",
       "      <td>0.228121</td>\n",
       "      <td>0.281468</td>\n",
       "      <td>0.265613</td>\n",
       "      <td>0.295924</td>\n",
       "    </tr>\n",
       "    <tr>\n",
       "      <th>ABT</th>\n",
       "      <td>0.145685</td>\n",
       "      <td>0.296690</td>\n",
       "      <td>0.150544</td>\n",
       "      <td>0.365925</td>\n",
       "      <td>1.069415</td>\n",
       "      <td>0.195646</td>\n",
       "      <td>0.167520</td>\n",
       "      <td>0.277324</td>\n",
       "      <td>0.354253</td>\n",
       "      <td>0.194376</td>\n",
       "      <td>...</td>\n",
       "      <td>0.267619</td>\n",
       "      <td>0.358256</td>\n",
       "      <td>0.217352</td>\n",
       "      <td>0.294879</td>\n",
       "      <td>0.362874</td>\n",
       "      <td>0.143725</td>\n",
       "      <td>0.229957</td>\n",
       "      <td>0.235307</td>\n",
       "      <td>0.235913</td>\n",
       "      <td>0.266497</td>\n",
       "    </tr>\n",
       "    <tr>\n",
       "      <th>...</th>\n",
       "      <td>...</td>\n",
       "      <td>...</td>\n",
       "      <td>...</td>\n",
       "      <td>...</td>\n",
       "      <td>...</td>\n",
       "      <td>...</td>\n",
       "      <td>...</td>\n",
       "      <td>...</td>\n",
       "      <td>...</td>\n",
       "      <td>...</td>\n",
       "      <td>...</td>\n",
       "      <td>...</td>\n",
       "      <td>...</td>\n",
       "      <td>...</td>\n",
       "      <td>...</td>\n",
       "      <td>...</td>\n",
       "      <td>...</td>\n",
       "      <td>...</td>\n",
       "      <td>...</td>\n",
       "      <td>...</td>\n",
       "      <td>...</td>\n",
       "    </tr>\n",
       "    <tr>\n",
       "      <th>TER</th>\n",
       "      <td>0.568075</td>\n",
       "      <td>0.457299</td>\n",
       "      <td>0.488443</td>\n",
       "      <td>0.209836</td>\n",
       "      <td>0.143725</td>\n",
       "      <td>0.529515</td>\n",
       "      <td>0.731165</td>\n",
       "      <td>0.266953</td>\n",
       "      <td>0.411421</td>\n",
       "      <td>0.475756</td>\n",
       "      <td>...</td>\n",
       "      <td>0.376529</td>\n",
       "      <td>0.253931</td>\n",
       "      <td>0.187078</td>\n",
       "      <td>0.203418</td>\n",
       "      <td>0.337117</td>\n",
       "      <td>1.103402</td>\n",
       "      <td>0.375394</td>\n",
       "      <td>0.204456</td>\n",
       "      <td>0.409339</td>\n",
       "      <td>0.452963</td>\n",
       "    </tr>\n",
       "    <tr>\n",
       "      <th>TGNA</th>\n",
       "      <td>0.331807</td>\n",
       "      <td>0.468958</td>\n",
       "      <td>0.255837</td>\n",
       "      <td>0.228121</td>\n",
       "      <td>0.229957</td>\n",
       "      <td>0.306467</td>\n",
       "      <td>0.289853</td>\n",
       "      <td>0.332320</td>\n",
       "      <td>0.394873</td>\n",
       "      <td>0.354415</td>\n",
       "      <td>...</td>\n",
       "      <td>0.388376</td>\n",
       "      <td>0.247927</td>\n",
       "      <td>0.253216</td>\n",
       "      <td>0.255313</td>\n",
       "      <td>0.416604</td>\n",
       "      <td>0.375394</td>\n",
       "      <td>1.030079</td>\n",
       "      <td>0.257173</td>\n",
       "      <td>0.440915</td>\n",
       "      <td>0.490267</td>\n",
       "    </tr>\n",
       "    <tr>\n",
       "      <th>THC</th>\n",
       "      <td>0.154200</td>\n",
       "      <td>0.303627</td>\n",
       "      <td>0.116257</td>\n",
       "      <td>0.281468</td>\n",
       "      <td>0.235307</td>\n",
       "      <td>0.157708</td>\n",
       "      <td>0.144621</td>\n",
       "      <td>0.208239</td>\n",
       "      <td>0.192880</td>\n",
       "      <td>0.206354</td>\n",
       "      <td>...</td>\n",
       "      <td>0.215610</td>\n",
       "      <td>0.209903</td>\n",
       "      <td>0.205851</td>\n",
       "      <td>0.213507</td>\n",
       "      <td>0.230058</td>\n",
       "      <td>0.204456</td>\n",
       "      <td>0.257173</td>\n",
       "      <td>1.074773</td>\n",
       "      <td>0.298852</td>\n",
       "      <td>0.280750</td>\n",
       "    </tr>\n",
       "    <tr>\n",
       "      <th>X</th>\n",
       "      <td>0.374973</td>\n",
       "      <td>0.727330</td>\n",
       "      <td>0.334717</td>\n",
       "      <td>0.265613</td>\n",
       "      <td>0.235913</td>\n",
       "      <td>0.361779</td>\n",
       "      <td>0.351938</td>\n",
       "      <td>0.451547</td>\n",
       "      <td>0.401276</td>\n",
       "      <td>0.397544</td>\n",
       "      <td>...</td>\n",
       "      <td>0.382905</td>\n",
       "      <td>0.318118</td>\n",
       "      <td>0.280665</td>\n",
       "      <td>0.304756</td>\n",
       "      <td>0.425424</td>\n",
       "      <td>0.409339</td>\n",
       "      <td>0.440915</td>\n",
       "      <td>0.298852</td>\n",
       "      <td>1.055259</td>\n",
       "      <td>0.514880</td>\n",
       "    </tr>\n",
       "    <tr>\n",
       "      <th>MAR.1</th>\n",
       "      <td>0.416130</td>\n",
       "      <td>0.540264</td>\n",
       "      <td>0.375402</td>\n",
       "      <td>0.295924</td>\n",
       "      <td>0.266497</td>\n",
       "      <td>0.414656</td>\n",
       "      <td>0.419688</td>\n",
       "      <td>0.377685</td>\n",
       "      <td>0.489132</td>\n",
       "      <td>0.438274</td>\n",
       "      <td>...</td>\n",
       "      <td>0.508235</td>\n",
       "      <td>0.348461</td>\n",
       "      <td>0.313773</td>\n",
       "      <td>0.316748</td>\n",
       "      <td>0.395208</td>\n",
       "      <td>0.452963</td>\n",
       "      <td>0.490267</td>\n",
       "      <td>0.280750</td>\n",
       "      <td>0.514880</td>\n",
       "      <td>1.089049</td>\n",
       "    </tr>\n",
       "  </tbody>\n",
       "</table>\n",
       "<p>418 rows × 418 columns</p>\n",
       "</div>"
      ],
      "text/plain": [
       "              A        AA      AAPL       ABC       ABT      ADBE       ADI  \\\n",
       "A      1.104466  0.439162  0.398369  0.185769  0.145685  0.459210  0.589315   \n",
       "AA     0.439162  1.094241  0.322609  0.297756  0.296690  0.384242  0.373410   \n",
       "AAPL   0.398369  0.322609  1.081901  0.177206  0.150544  0.450774  0.462401   \n",
       "ABC    0.185769  0.297756  0.177206  1.105170  0.365925  0.259723  0.223895   \n",
       "ABT    0.145685  0.296690  0.150544  0.365925  1.069415  0.195646  0.167520   \n",
       "...         ...       ...       ...       ...       ...       ...       ...   \n",
       "TER    0.568075  0.457299  0.488443  0.209836  0.143725  0.529515  0.731165   \n",
       "TGNA   0.331807  0.468958  0.255837  0.228121  0.229957  0.306467  0.289853   \n",
       "THC    0.154200  0.303627  0.116257  0.281468  0.235307  0.157708  0.144621   \n",
       "X      0.374973  0.727330  0.334717  0.265613  0.235913  0.361779  0.351938   \n",
       "MAR.1  0.416130  0.540264  0.375402  0.295924  0.266497  0.414656  0.419688   \n",
       "\n",
       "            ADM       ADP      ADSK  ...      SPLS       STJ       SVU  \\\n",
       "A      0.255257  0.371152  0.441491  ...  0.358685  0.305122  0.170880   \n",
       "AA     0.480384  0.461335  0.402252  ...  0.436178  0.333620  0.303222   \n",
       "AAPL   0.228062  0.321280  0.395329  ...  0.337683  0.178453  0.180334   \n",
       "ABC    0.276246  0.330277  0.231413  ...  0.241031  0.318381  0.231832   \n",
       "ABT    0.277324  0.354253  0.194376  ...  0.267619  0.358256  0.217352   \n",
       "...         ...       ...       ...  ...       ...       ...       ...   \n",
       "TER    0.266953  0.411421  0.475756  ...  0.376529  0.253931  0.187078   \n",
       "TGNA   0.332320  0.394873  0.354415  ...  0.388376  0.247927  0.253216   \n",
       "THC    0.208239  0.192880  0.206354  ...  0.215610  0.209903  0.205851   \n",
       "X      0.451547  0.401276  0.397544  ...  0.382905  0.318118  0.280665   \n",
       "MAR.1  0.377685  0.489132  0.438274  ...  0.508235  0.348461  0.313773   \n",
       "\n",
       "            SWY       TEG       TER      TGNA       THC         X     MAR.1  \n",
       "A      0.202256  0.331676  0.568075  0.331807  0.154200  0.374973  0.416130  \n",
       "AA     0.312575  0.447970  0.457299  0.468958  0.303627  0.727330  0.540264  \n",
       "AAPL   0.194835  0.277540  0.488443  0.255837  0.116257  0.334717  0.375402  \n",
       "ABC    0.243912  0.344060  0.209836  0.228121  0.281468  0.265613  0.295924  \n",
       "ABT    0.294879  0.362874  0.143725  0.229957  0.235307  0.235913  0.266497  \n",
       "...         ...       ...       ...       ...       ...       ...       ...  \n",
       "TER    0.203418  0.337117  1.103402  0.375394  0.204456  0.409339  0.452963  \n",
       "TGNA   0.255313  0.416604  0.375394  1.030079  0.257173  0.440915  0.490267  \n",
       "THC    0.213507  0.230058  0.204456  0.257173  1.074773  0.298852  0.280750  \n",
       "X      0.304756  0.425424  0.409339  0.440915  0.298852  1.055259  0.514880  \n",
       "MAR.1  0.316748  0.395208  0.452963  0.490267  0.280750  0.514880  1.089049  \n",
       "\n",
       "[418 rows x 418 columns]"
      ]
     },
     "execution_count": 8,
     "metadata": {},
     "output_type": "execute_result"
    }
   ],
   "source": [
    "cov_matrix = df_train.cov()\n",
    "cov_raw_matrix = df_raw_train.cov()\n",
    "cov_matrix"
   ]
  },
  {
   "cell_type": "code",
   "execution_count": 9,
   "metadata": {},
   "outputs": [
    {
     "data": {
      "text/plain": [
       "PCA()"
      ]
     },
     "execution_count": 9,
     "metadata": {},
     "output_type": "execute_result"
    },
    {
     "ename": "NameError",
     "evalue": "name 'cov_matrix_raw' is not defined",
     "output_type": "error",
     "traceback": [
      "\u001b[1;31m---------------------------------------------------------------------------\u001b[0m",
      "\u001b[1;31mNameError\u001b[0m                                 Traceback (most recent call last)",
      "Input \u001b[1;32mIn [9]\u001b[0m, in \u001b[0;36m<cell line: 3>\u001b[1;34m()\u001b[0m\n\u001b[0;32m      8\u001b[0m pca\u001b[38;5;241m.\u001b[39mfit(cov_matrix)\n\u001b[0;32m      9\u001b[0m \u001b[38;5;66;03m# not normed covariance matrix\u001b[39;00m\n\u001b[0;32m     10\u001b[0m \n\u001b[0;32m     11\u001b[0m \u001b[38;5;66;03m### END CODE HERE ###\u001b[39;00m\n\u001b[1;32m---> 13\u001b[0m cov_raw_df \u001b[38;5;241m=\u001b[39m pd\u001b[38;5;241m.\u001b[39mDataFrame({\u001b[38;5;124m'\u001b[39m\u001b[38;5;124mVariance\u001b[39m\u001b[38;5;124m'\u001b[39m: np\u001b[38;5;241m.\u001b[39mdiag(\u001b[43mcov_matrix_raw\u001b[49m)}, index\u001b[38;5;241m=\u001b[39mstock_tickers)    \n\u001b[0;32m     14\u001b[0m \u001b[38;5;66;03m# cumulative variance explained\u001b[39;00m\n\u001b[0;32m     15\u001b[0m var_threshold \u001b[38;5;241m=\u001b[39m \u001b[38;5;241m0.8\u001b[39m\n",
      "\u001b[1;31mNameError\u001b[0m: name 'cov_matrix_raw' is not defined"
     ]
    }
   ],
   "source": [
    "from sklearn.decomposition import PCA\n",
    "\n",
    "if df_train is not None and df_raw_train is not None:\n",
    "\n",
    "    ### START CODE HERE ### (≈ 2-3 lines of code)\n",
    "    # computing PCA on S&P 500 stocks\n",
    "    pca = PCA()\n",
    "    pca.fit(cov_matrix)\n",
    "    # not normed covariance matrix\n",
    "    \n",
    "    ### END CODE HERE ###\n",
    "    \n",
    "    cov_raw_df = pd.DataFrame({'Variance': np.diag(cov_matrix_raw)}, index=stock_tickers)    \n",
    "    # cumulative variance explained\n",
    "    var_threshold = 0.8\n",
    "    var_explained = np.cumsum(pca.explained_variance_ratio_)\n",
    "    num_comp = np.where(np.logical_not(var_explained < var_threshold))[0][0] + 1  # +1 due to zero based-arrays\n",
    "    print('%d components explain %.2f%% of variance' %(num_comp, 100* var_threshold))"
   ]
  },
  {
   "cell_type": "code",
   "execution_count": null,
   "metadata": {},
   "outputs": [],
   "source": [
    "if pca is not None:\n",
    "    bar_width = 0.9;\n",
    "    n_asset = int((1 / 10) * normed_returns.shape[1]);\n",
    "    x_indx = np.arange(n_asset);\n",
    "    fig, ax = plt.subplots();\n",
    "    fig.set_size_inches(12, 4);\n",
    "    # Eigenvalues are measured as percentage of explained variance.\n",
    "    rects = ax.bar(x_indx, pca.explained_variance_ratio_[:n_asset], bar_width, color='deepskyblue');\n",
    "    ax.set_xticks(x_indx + bar_width / 2);\n",
    "    ax.set_xticklabels(list(range(n_asset)), rotation=45);\n",
    "    ax.set_title('Percent variance explained');\n",
    "    ax.legend((rects[0],), ('Percent variance explained by principal components',));"
   ]
  },
  {
   "cell_type": "code",
   "execution_count": null,
   "metadata": {},
   "outputs": [],
   "source": [
    "if pca is not None:\n",
    "    projected = pca.fit_transform(cov_matrix)"
   ]
  },
  {
   "cell_type": "code",
   "execution_count": null,
   "metadata": {},
   "outputs": [],
   "source": [
    "projected.shape"
   ]
  },
  {
   "cell_type": "markdown",
   "metadata": {},
   "source": [
    "#### Part 3 (Eigen-portfolios construction)\n",
    "\n",
    "**Instructions:**\n",
    "\n",
    "We now look a the first two eigen portfolios. We use definition of eigen portfolios as provided by Avellaneda \n",
    "http://math.nyu.edu/faculty/avellane/AvellanedaLeeStatArb20090616.pdf\n",
    "\n",
    "Following Avellaneda we define eigen portfolio weights as:\n",
    "$$Q_i^{(j)} = \\frac{v_i^{(j)}}{\\sigma_i}$$\n",
    "\n",
    "where $j$ is the index of eigen portfolio and $v_i$ is the i-th element of j-th eigen vector.\n",
    "\n",
    "In the code the pca.components_ are the Principal axes in feature space, representing the directions of maximum variance in the data. The components are sorted by explained_variance_.\n",
    "\n",
    "**Hint:** do not forget to normalize portfolio wieghts such they sum up to 1.\n",
    "\n",
    "Assign **pc_w** to be weights of the first eigen portfolio."
   ]
  },
  {
   "cell_type": "code",
   "execution_count": 10,
   "metadata": {},
   "outputs": [],
   "source": [
    "# the first two eigen-portfolio weights\n",
    "# first component\n",
    "# get the Principal components\n",
    "pc_w = np.zeros(len(stock_tickers))\n",
    "eigen_prtf1 = pd.DataFrame(data ={'weights': pc_w.squeeze()*100}, index = stock_tickers)\n"
   ]
  },
  {
   "cell_type": "code",
   "execution_count": 33,
   "metadata": {
    "scrolled": false
   },
   "outputs": [
    {
     "name": "stdout",
     "output_type": "stream",
     "text": [
      "Sum of weights of first eigen-portfolio: 100.00\n"
     ]
    },
    {
     "data": {
      "text/plain": [
       "<AxesSubplot:title={'center':'First eigen-portfolio weights'}>"
      ]
     },
     "execution_count": 33,
     "metadata": {},
     "output_type": "execute_result"
    },
    {
     "data": {
      "image/png": "[encoded data removed]",
      "text/plain": [
       "<Figure size 864x432 with 1 Axes>"
      ]
     },
     "metadata": {
      "needs_background": "light"
     },
     "output_type": "display_data"
    }
   ],
   "source": [
    "if pca is not None:\n",
    "    pcs = pca.components_[:,0]\n",
    "\n",
    "    ### START CODE HERE ### (≈ 1-2 lines of code)\n",
    "    # normalized to 1 \n",
    "    pc_w = pcs / np.sum(pcs)    \n",
    "    ### END CODE HERE ###\n",
    "    \n",
    "    eigen_prtf1 = pd.DataFrame(data ={'weights': pc_w.squeeze()*100}, index = stock_tickers)\n",
    "    eigen_prtf1.sort_values(by=['weights'], ascending=False, inplace=True)\n",
    "    print('Sum of weights of first eigen-portfolio: %.2f' % np.sum(eigen_prtf1))\n",
    "    eigen_prtf1.plot(title='First eigen-portfolio weights', \n",
    "                     figsize=(12,6), \n",
    "                     xticks=range(0, len(stock_tickers),10), \n",
    "                     rot=45, \n",
    "                     linewidth=3)"
   ]
  },
  {
   "cell_type": "markdown",
   "metadata": {},
   "source": [
    "We sort the first two eigen portfolio weights and plot the results."
   ]
  },
  {
   "cell_type": "code",
   "execution_count": 13,
   "metadata": {},
   "outputs": [
    {
     "name": "stdout",
     "output_type": "stream",
     "text": [
      "Sum of weights of second eigen-portfolio: 100.00\n"
     ]
    },
    {
     "data": {
      "text/plain": [
       "<AxesSubplot:title={'center':'Second eigen-portfolio weights'}>"
      ]
     },
     "execution_count": 13,
     "metadata": {},
     "output_type": "execute_result"
    },
    {
     "data": {
      "image/png": "[encoded data removed]",
      "text/plain": [
       "<Figure size 864x432 with 1 Axes>"
      ]
     },
     "metadata": {
      "needs_background": "light"
     },
     "output_type": "display_data"
    }
   ],
   "source": [
    "eigen_prtf2 = pd.DataFrame(data ={'weights': pc_w.squeeze()*100}, index = stock_tickers)\n",
    "\n",
    "if pca is not None:\n",
    "    pcs = pca.components_[:,1]\n",
    "\n",
    "    ### START CODE HERE ### (≈ 1-2 lines of code)\n",
    "    # normalized to 1 \n",
    "    pc_w = pcs / np.sum(pcs)\n",
    "    \n",
    "    ### END CODE HERE ###\n",
    "\n",
    "    eigen_prtf2 = pd.DataFrame(data ={'weights': pc_w.squeeze()*100}, index = stock_tickers)\n",
    "    eigen_prtf2.sort_values(by=['weights'], ascending=False, inplace=True)\n",
    "    print('Sum of weights of second eigen-portfolio: %.2f' % np.sum(eigen_prtf2))\n",
    "    eigen_prtf2.plot(title='Second eigen-portfolio weights',\n",
    "                     figsize=(12,6), \n",
    "                     xticks=range(0, len(stock_tickers),10), \n",
    "                     rot=45, \n",
    "                     linewidth=3)"
   ]
  },
  {
   "cell_type": "code",
   "execution_count": 35,
   "metadata": {},
   "outputs": [
    {
     "name": "stdout",
     "output_type": "stream",
     "text": [
      "Sum of weights of second eigen-portfolio: 100.00\n"
     ]
    },
    {
     "data": {
      "text/plain": [
       "<AxesSubplot:title={'center':'Second eigen-portfolio weights'}>"
      ]
     },
     "execution_count": 35,
     "metadata": {},
     "output_type": "execute_result"
    },
    {
     "data": {
      "image/png": "[encoded data removed]",
      "text/plain": [
       "<Figure size 864x432 with 1 Axes>"
      ]
     },
     "metadata": {
      "needs_background": "light"
     },
     "output_type": "display_data"
    }
   ],
   "source": [
    "eigen_prtf20 = pd.DataFrame(data ={'weights': pc_w.squeeze()*100}, index = stock_tickers)\n",
    "\n",
    "if pca is not None:\n",
    "    pcs = pca.components_[:,19]\n",
    "\n",
    "    ### START CODE HERE ### (≈ 1-2 lines of code)\n",
    "    # normalized to 1 \n",
    "    pc_w = pcs / np.sum(pcs)\n",
    "    \n",
    "    ### END CODE HERE ###\n",
    "\n",
    "    eigen_prtf20 = pd.DataFrame(data ={'weights': pc_w.squeeze()*100}, index = stock_tickers)\n",
    "    eigen_prtf20.sort_values(by=['weights'], ascending=False, inplace=True)\n",
    "    print('Sum of weights of second eigen-portfolio: %.2f' % np.sum(eigen_prtf2))\n",
    "    eigen_prtf20.plot(title='Second eigen-portfolio weights',\n",
    "                     figsize=(12,6), \n",
    "                     xticks=range(0, len(stock_tickers),10), \n",
    "                     rot=45, \n",
    "                     linewidth=3)"
   ]
  },
  {
   "cell_type": "markdown",
   "metadata": {},
   "source": [
    "#### Part 4 (Compute performance of several eigen portfolios)\n",
    "\n",
    "**Instructions:**\n",
    "- Implement sharpe_ratio() function. The function takes ts_returns argument of type pd.Series and returns a tuple of annualized return, annualized vol, and annualized sharpe ratio, where sharpe ratio is defined as annualized return divided by annualized volatility \n",
    "- find portfolio (an index into sharpe_metric) that has the highest sharpe ratio"
   ]
  },
  {
   "cell_type": "code",
   "execution_count": 14,
   "metadata": {},
   "outputs": [
    {
     "data": {
      "text/html": [
       "<div>\n",
       "<style scoped>\n",
       "    .dataframe tbody tr th:only-of-type {\n",
       "        vertical-align: middle;\n",
       "    }\n",
       "\n",
       "    .dataframe tbody tr th {\n",
       "        vertical-align: top;\n",
       "    }\n",
       "\n",
       "    .dataframe thead th {\n",
       "        text-align: right;\n",
       "    }\n",
       "</style>\n",
       "<table border=\"1\" class=\"dataframe\">\n",
       "  <thead>\n",
       "    <tr style=\"text-align: right;\">\n",
       "      <th></th>\n",
       "      <th>weights</th>\n",
       "    </tr>\n",
       "  </thead>\n",
       "  <tbody>\n",
       "    <tr>\n",
       "      <th>C</th>\n",
       "      <td>32.156276</td>\n",
       "    </tr>\n",
       "    <tr>\n",
       "      <th>IR</th>\n",
       "      <td>30.933928</td>\n",
       "    </tr>\n",
       "    <tr>\n",
       "      <th>IRM</th>\n",
       "      <td>25.507764</td>\n",
       "    </tr>\n",
       "    <tr>\n",
       "      <th>AMZN</th>\n",
       "      <td>22.167479</td>\n",
       "    </tr>\n",
       "    <tr>\n",
       "      <th>EMR</th>\n",
       "      <td>18.008921</td>\n",
       "    </tr>\n",
       "    <tr>\n",
       "      <th>...</th>\n",
       "      <td>...</td>\n",
       "    </tr>\n",
       "    <tr>\n",
       "      <th>FOXA</th>\n",
       "      <td>-17.313521</td>\n",
       "    </tr>\n",
       "    <tr>\n",
       "      <th>FLIR</th>\n",
       "      <td>-17.600672</td>\n",
       "    </tr>\n",
       "    <tr>\n",
       "      <th>NVDA</th>\n",
       "      <td>-17.795781</td>\n",
       "    </tr>\n",
       "    <tr>\n",
       "      <th>DO</th>\n",
       "      <td>-21.001381</td>\n",
       "    </tr>\n",
       "    <tr>\n",
       "      <th>GE</th>\n",
       "      <td>-21.042108</td>\n",
       "    </tr>\n",
       "  </tbody>\n",
       "</table>\n",
       "<p>418 rows × 1 columns</p>\n",
       "</div>"
      ],
      "text/plain": [
       "        weights\n",
       "C     32.156276\n",
       "IR    30.933928\n",
       "IRM   25.507764\n",
       "AMZN  22.167479\n",
       "EMR   18.008921\n",
       "...         ...\n",
       "FOXA -17.313521\n",
       "FLIR -17.600672\n",
       "NVDA -17.795781\n",
       "DO   -21.001381\n",
       "GE   -21.042108\n",
       "\n",
       "[418 rows x 1 columns]"
      ]
     },
     "execution_count": 14,
     "metadata": {},
     "output_type": "execute_result"
    }
   ],
   "source": [
    "eigen_prtf1"
   ]
  },
  {
   "cell_type": "code",
   "execution_count": 48,
   "metadata": {},
   "outputs": [],
   "source": [
    "# weighted return everyday\n",
    "eigen_prtf1_returns = np.dot(df_raw_test.loc[:, eigen_prtf1.index], eigen_prtf1 / 100)\n"
   ]
  },
  {
   "cell_type": "code",
   "execution_count": 49,
   "metadata": {},
   "outputs": [],
   "source": [
    "def sharpe_ratio(ts_returns, periods_per_year=252):\n",
    "    \"\"\"\n",
    "    sharpe_ratio - Calculates annualized return, annualized vol, and annualized sharpe ratio, \n",
    "                    where sharpe ratio is defined as annualized return divided by annualized volatility \n",
    "                    \n",
    "    Arguments:\n",
    "    ts_returns - pd.Series of returns of a single eigen portfolio\n",
    "    \n",
    "    Return:\n",
    "    a tuple of three doubles: annualized return, volatility, and sharpe ratio\n",
    "    \"\"\"\n",
    "\n",
    "    ### START CODE HERE ### (≈ 4-5 lines of code)\n",
    "    cum_ret = (ts_returns + 1).cumprod()\n",
    "    annualized_return = (cum_ret[-1] / cum_ret[0]) ** (len(cum_ret) / periods_per_year) - 1\n",
    "    annualized_vol = ts_returns.std(ddof=1) * periods_per_year ** 0.5\n",
    "    annualized_sharpe = annualized_return / annualized_vol\n",
    "    ### END CODE HERE ###\n",
    "    \n",
    "    return annualized_return, annualized_vol, annualized_sharpe"
   ]
  },
  {
   "cell_type": "markdown",
   "metadata": {},
   "source": [
    "We compute the annualized return, volatility, and Sharpe ratio of the first two eigen portfolios."
   ]
  },
  {
   "cell_type": "code",
   "execution_count": 50,
   "metadata": {},
   "outputs": [
    {
     "name": "stdout",
     "output_type": "stream",
     "text": [
      "First eigen-portfolio:\n",
      "Return = 180.44%\n",
      "Volatility = 31.50%\n",
      "Sharpe = 5.73\n"
     ]
    },
    {
     "data": {
      "text/plain": [
       "<AxesSubplot:title={'center':'Returns of the market-cap weighted index vs. First eigen-portfolio'}>"
      ]
     },
     "execution_count": 50,
     "metadata": {},
     "output_type": "execute_result"
    },
    {
     "data": {
      "image/png": "[encoded data removed]",
      "text/plain": [
       "<Figure size 864x432 with 1 Axes>"
      ]
     },
     "metadata": {
      "needs_background": "light"
     },
     "output_type": "display_data"
    }
   ],
   "source": [
    "if df_raw_test is not None:\n",
    "    eigen_prtf1_returns = np.dot(df_raw_test.loc[:, eigen_prtf1.index], eigen_prtf1 / 100)\n",
    "    eigen_prtf1_returns = pd.Series(eigen_prtf1_returns.squeeze(), index=df_test.index)\n",
    "    er, vol, sharpe = sharpe_ratio(eigen_prtf1_returns)\n",
    "    print('First eigen-portfolio:\\nReturn = %.2f%%\\nVolatility = %.2f%%\\nSharpe = %.2f' % (er*100, vol*100, sharpe))\n",
    "    year_frac = (eigen_prtf1_returns.index[-1] - eigen_prtf1_returns.index[0]).days / 252 # this line is useless\n",
    "\n",
    "    df_plot = pd.DataFrame({'PC1': eigen_prtf1_returns, 'SPX': spy_raw_test}, index=df_test.index)\n",
    "    np.cumprod(df_plot + 1).plot(title='Returns of the market-cap weighted index vs. First eigen-portfolio', \n",
    "                             figsize=(12,6), linewidth=3)"
   ]
  },
  {
   "cell_type": "code",
   "execution_count": 51,
   "metadata": {},
   "outputs": [
    {
     "name": "stdout",
     "output_type": "stream",
     "text": [
      "Second eigen-portfolio:\n",
      "Return = 53.55%\n",
      "Volatility = 42.84%\n",
      "Sharpe = 1.25\n"
     ]
    },
    {
     "data": {
      "text/plain": [
       "<AxesSubplot:title={'center':'Returns of the market-cap weighted index vs. First eigen-portfolio'}>"
      ]
     },
     "execution_count": 51,
     "metadata": {},
     "output_type": "execute_result"
    },
    {
     "data": {
      "image/png": "[encoded data removed]",
      "text/plain": [
       "<Figure size 864x432 with 1 Axes>"
      ]
     },
     "metadata": {
      "needs_background": "light"
     },
     "output_type": "display_data"
    }
   ],
   "source": [
    "if df_raw_test is not None:\n",
    "    eigen_prtf2_returns = np.dot(df_raw_test.loc[:, eigen_prtf2.index], eigen_prtf2 / 100)\n",
    "    eigen_prtf2_returns = pd.Series(eigen_prtf2_returns.squeeze(), index=df_test.index)\n",
    "    er, vol, sharpe = sharpe_ratio(eigen_prtf2_returns)\n",
    "    print('Second eigen-portfolio:\\nReturn = %.2f%%\\nVolatility = %.2f%%\\nSharpe = %.2f' % (er*100, vol*100, sharpe))\n",
    "    df_plot = pd.DataFrame({'PC1': eigen_prtf2_returns, 'SPX': spy_raw_test}, index=df_test.index)\n",
    "    np.cumprod(df_plot + 1).plot(title='Returns of the market-cap weighted index vs. First eigen-portfolio', \n",
    "                             figsize=(12,6), linewidth=3)"
   ]
  },
  {
   "cell_type": "markdown",
   "metadata": {},
   "source": [
    "We repeat the exercise of computing Sharpe ratio for the first N portfolios and select portfolio with the highest postive Sharpe ratio."
   ]
  },
  {
   "cell_type": "code",
   "execution_count": 52,
   "metadata": {},
   "outputs": [],
   "source": [
    "n_portfolios = 120\n",
    "annualized_ret = np.array([0.] * n_portfolios)\n",
    "sharpe_metric = np.array([0.] * n_portfolios)\n",
    "annualized_vol = np.array([0.] * n_portfolios)"
   ]
  },
  {
   "cell_type": "code",
   "execution_count": 55,
   "metadata": {
    "scrolled": false
   },
   "outputs": [
    {
     "name": "stdout",
     "output_type": "stream",
     "text": [
      "Eigen portfolio #97 with the highest Sharpe. Return 1318.09%, vol = 60.98%, Sharpe = 21.62\n"
     ]
    },
    {
     "data": {
      "text/plain": [
       "[<matplotlib.lines.Line2D at 0x16ecedf3a60>]"
      ]
     },
     "execution_count": 55,
     "metadata": {},
     "output_type": "execute_result"
    },
    {
     "data": {
      "text/plain": [
       "Text(0.5, 1.0, 'Sharpe ratio of eigen-portfolios')"
      ]
     },
     "execution_count": 55,
     "metadata": {},
     "output_type": "execute_result"
    },
    {
     "data": {
      "text/plain": [
       "Text(0, 0.5, 'Sharpe ratio')"
      ]
     },
     "execution_count": 55,
     "metadata": {},
     "output_type": "execute_result"
    },
    {
     "data": {
      "text/plain": [
       "Text(0.5, 0, 'Portfolios')"
      ]
     },
     "execution_count": 55,
     "metadata": {},
     "output_type": "execute_result"
    },
    {
     "data": {
      "image/png": "[encoded data removed]",
      "text/plain": [
       "<Figure size 864x288 with 1 Axes>"
      ]
     },
     "metadata": {
      "needs_background": "light"
     },
     "output_type": "display_data"
    }
   ],
   "source": [
    "if pca is not None:\n",
    "    for ix in range(n_portfolios):\n",
    "        ### START CODE HERE ### (≈ 4-5 lines of code)\n",
    "        # weights\n",
    "        pcs = pca.components_[:,ix]\n",
    "        pc_w = pcs / np.sum(pcs)\n",
    "        \n",
    "        # form portfoliio\n",
    "        portfolio = pd.DataFrame(data ={'weights': pc_w.squeeze()*100}, index = stock_tickers)\n",
    "        portfolio.sort_values(by=['weights'], ascending=False, inplace=True)\n",
    "        \n",
    "        # weighted returns\n",
    "        wret = np.dot(df_raw_test.loc[:, portfolio.index], portfolio / 100)\n",
    "        \n",
    "        \n",
    "        #find sharpe\n",
    "        ret, vol, sharpe = sharpe_ratio(wret)\n",
    "        \n",
    "        # fill in \n",
    "        annualized_ret[ix] = ret\n",
    "        annualized_vol[ix] = vol\n",
    "        sharpe_metric[ix] = sharpe \n",
    "        annualized_ret[np.isnan(annualized_ret)] = 0\n",
    "        annualized_vol[np.isnan(annualized_vol)] = 0\n",
    "        sharpe_metric[np.isnan(sharpe_metric)] = 0\n",
    "        ### END CODE HERE ###\n",
    "    \n",
    "        \n",
    "    # find portfolio with the highest Sharpe ratio\n",
    "    ### START CODE HERE ### (≈ 2-3 lines of code)\n",
    "    idx_highest_sharpe = np.argmax(sharpe_metric)\n",
    "    \n",
    "    ### END CODE HERE ###\n",
    "    \n",
    "    print('Eigen portfolio #%d with the highest Sharpe. Return %.2f%%, vol = %.2f%%, Sharpe = %.2f' % \n",
    "          (idx_highest_sharpe,\n",
    "           annualized_ret[idx_highest_sharpe]*100, \n",
    "           annualized_vol[idx_highest_sharpe]*100, \n",
    "           sharpe_metric[idx_highest_sharpe]))\n",
    "\n",
    "    fig, ax = plt.subplots()\n",
    "    fig.set_size_inches(12, 4)\n",
    "    ax.plot(sharpe_metric, linewidth=3)\n",
    "    ax.set_title('Sharpe ratio of eigen-portfolios')\n",
    "    ax.set_ylabel('Sharpe ratio')\n",
    "    ax.set_xlabel('Portfolios')"
   ]
  },
  {
   "cell_type": "code",
   "execution_count": 56,
   "metadata": {},
   "outputs": [
    {
     "data": {
      "text/html": [
       "<div>\n",
       "<style scoped>\n",
       "    .dataframe tbody tr th:only-of-type {\n",
       "        vertical-align: middle;\n",
       "    }\n",
       "\n",
       "    .dataframe tbody tr th {\n",
       "        vertical-align: top;\n",
       "    }\n",
       "\n",
       "    .dataframe thead th {\n",
       "        text-align: right;\n",
       "    }\n",
       "</style>\n",
       "<table border=\"1\" class=\"dataframe\">\n",
       "  <thead>\n",
       "    <tr style=\"text-align: right;\">\n",
       "      <th></th>\n",
       "      <th>Return</th>\n",
       "      <th>Vol</th>\n",
       "      <th>Sharpe</th>\n",
       "    </tr>\n",
       "  </thead>\n",
       "  <tbody>\n",
       "    <tr>\n",
       "      <th>97</th>\n",
       "      <td>13.180881</td>\n",
       "      <td>0.609754</td>\n",
       "      <td>21.616713</td>\n",
       "    </tr>\n",
       "    <tr>\n",
       "      <th>24</th>\n",
       "      <td>6.572691</td>\n",
       "      <td>0.424530</td>\n",
       "      <td>15.482287</td>\n",
       "    </tr>\n",
       "    <tr>\n",
       "      <th>9</th>\n",
       "      <td>4.461623</td>\n",
       "      <td>0.326692</td>\n",
       "      <td>13.656968</td>\n",
       "    </tr>\n",
       "    <tr>\n",
       "      <th>42</th>\n",
       "      <td>3.107348</td>\n",
       "      <td>0.228033</td>\n",
       "      <td>13.626749</td>\n",
       "    </tr>\n",
       "    <tr>\n",
       "      <th>76</th>\n",
       "      <td>7.591876</td>\n",
       "      <td>0.603325</td>\n",
       "      <td>12.583397</td>\n",
       "    </tr>\n",
       "    <tr>\n",
       "      <th>104</th>\n",
       "      <td>2.547683</td>\n",
       "      <td>0.213640</td>\n",
       "      <td>11.925118</td>\n",
       "    </tr>\n",
       "    <tr>\n",
       "      <th>118</th>\n",
       "      <td>5.803919</td>\n",
       "      <td>0.487549</td>\n",
       "      <td>11.904280</td>\n",
       "    </tr>\n",
       "    <tr>\n",
       "      <th>93</th>\n",
       "      <td>3.051041</td>\n",
       "      <td>0.271151</td>\n",
       "      <td>11.252176</td>\n",
       "    </tr>\n",
       "    <tr>\n",
       "      <th>94</th>\n",
       "      <td>2.311899</td>\n",
       "      <td>0.225976</td>\n",
       "      <td>10.230739</td>\n",
       "    </tr>\n",
       "    <tr>\n",
       "      <th>2</th>\n",
       "      <td>2.083700</td>\n",
       "      <td>0.206247</td>\n",
       "      <td>10.102933</td>\n",
       "    </tr>\n",
       "  </tbody>\n",
       "</table>\n",
       "</div>"
      ],
      "text/plain": [
       "        Return       Vol     Sharpe\n",
       "97   13.180881  0.609754  21.616713\n",
       "24    6.572691  0.424530  15.482287\n",
       "9     4.461623  0.326692  13.656968\n",
       "42    3.107348  0.228033  13.626749\n",
       "76    7.591876  0.603325  12.583397\n",
       "104   2.547683  0.213640  11.925118\n",
       "118   5.803919  0.487549  11.904280\n",
       "93    3.051041  0.271151  11.252176\n",
       "94    2.311899  0.225976  10.230739\n",
       "2     2.083700  0.206247  10.102933"
      ]
     },
     "execution_count": 56,
     "metadata": {},
     "output_type": "execute_result"
    }
   ],
   "source": [
    "results = pd.DataFrame(data={'Return': annualized_ret, 'Vol': annualized_vol, 'Sharpe': sharpe_metric})\n",
    "results.sort_values(by=['Sharpe'], ascending=False, inplace=True)\n",
    "results.head(10)"
   ]
  },
  {
   "cell_type": "code",
   "execution_count": 57,
   "metadata": {},
   "outputs": [
    {
     "name": "stdout",
     "output_type": "stream",
     "text": [
      "Done!\n"
     ]
    }
   ],
   "source": [
    "print('Done!')"
   ]
  },
  {
   "cell_type": "code",
   "execution_count": null,
   "metadata": {},
   "outputs": [],
   "source": []
  }
 ],
 "metadata": {
  "anaconda-cloud": {},
  "coursera": {
   "course_slug": "machine-learning-in-finance"
  },
  "kernelspec": {
   "display_name": "Python 3 (ipykernel)",
   "language": "python",
   "name": "python3"
  },
  "language_info": {
   "codemirror_mode": {
    "name": "ipython",
    "version": 3
   },
   "file_extension": ".py",
   "mimetype": "text/x-python",
   "name": "python",
   "nbconvert_exporter": "python",
   "pygments_lexer": "ipython3",
   "version": "3.9.13"
  }
 },
 "nbformat": 4,
 "nbformat_minor": 1
}
